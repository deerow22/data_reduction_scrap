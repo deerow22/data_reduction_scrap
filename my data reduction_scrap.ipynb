{
 "cells": [
  {
   "cell_type": "code",
   "execution_count": 62,
   "metadata": {
    "collapsed": true
   },
   "outputs": [],
   "source": [
    "%matplotlib inline\n",
    "from matplotlib import pyplot as plt\n",
    "from __future__ import division\n",
    "\n",
    "import os\n",
    "\n",
    "import numpy as np\n",
    "\n",
    "from glob import glob\n",
    "\n",
    "import reduce_dblspec \n",
    "\n",
    "from astropy.io import fits\n",
    "from astropy import units as u\n",
    "from astropy import modeling\n",
    "from astropy.table import Table\n",
    "\n",
    "from astropy import modeling\n",
    "from astropy import constants as cnst"
   ]
  },
  {
   "cell_type": "markdown",
   "metadata": {},
   "source": [
    "# Overscan/Flats\n",
    "###### possibly do bias later but may have enough s/n without"
   ]
  },
  {
   "cell_type": "code",
   "execution_count": 63,
   "metadata": {
    "collapsed": true
   },
   "outputs": [],
   "source": [
    "#changing plt default fig size to better show spectrums when i get that far\n",
    "plt.rcParams['figure.figsize'] = (16, 10)\n",
    "\n",
    "#setting up dimensions based on ccd size per specs on website\n",
    "redplatescale = 0.293*u.arcsec/u.pixel\n",
    "blueplatescale = 0.389*u.arcsec/u.pixel"
   ]
  },
  {
   "cell_type": "code",
   "execution_count": 64,
   "metadata": {},
   "outputs": [
    {
     "name": "stderr",
     "output_type": "stream",
     "text": [
      "/Users/drowland/Desktop/data_pipeline/reduce_dblspec.py:256: RuntimeWarning: invalid value encountered in sqrt\n",
      "  unc = (result/self.header['GAIN'] + self.unc[tsl]**2)**0.5\n"
     ]
    }
   ],
   "source": [
    "#removing overscan from flats? idk where bias frames are tho\n",
    "\n",
    "#'DomeFlat' is an object label telling it to look for\n",
    "#tells to run reduce_dblspec on last 10 files ending in filename ext (with *)\n",
    "rflats = [reduce_dblspec.DoubleSpecImage(fn).overscan_sub_and_trim() for fn in \n",
    "          reduce_dblspec.find_all_obj('DomeFlat','20170518/red*.fits')[:10]] \n",
    "\n",
    "#creating normalized flats - ie just instrument noise not from readout\n",
    "rnfl = reduce_dblspec.create_normalized_flat(rflats)"
   ]
  },
  {
   "cell_type": "code",
   "execution_count": null,
   "metadata": {
    "collapsed": true
   },
   "outputs": [],
   "source": []
  },
  {
   "cell_type": "markdown",
   "metadata": {},
   "source": [
    "##### wheres combine exposures / rejecting cosmics step? maybe dont really need unless spot in a spectra somewhere crucial "
   ]
  },
  {
   "cell_type": "markdown",
   "metadata": {},
   "source": [
    "## Dispersion Solutions\n",
    "\n",
    "#### Procedure:\n",
    "\n",
    "#### 1. create a `DispersionSolution` object with the relvant arc\n",
    "#### 2. compare to the atlas and match up lines\n",
    "#### 3. use guess_plot to refine the line location (and ID the line list wl)\n",
    "#### 4. once enough are populated, use `guess_from_line_list` to get the remainder"
   ]
  },
  {
   "cell_type": "code",
   "execution_count": 65,
   "metadata": {
    "collapsed": true
   },
   "outputs": [],
   "source": [
    "#wait this fcn is created in NB but never used - why? - work on understanding it later then\n",
    "\n",
    "\n",
    "#creating a fcn that will guess the matching line peaks btwn (arcs or data?) & atlas\n",
    "#guessing plot btwn pixels and wavelength\n",
    "def guess_plot(pxguess, wlguess, specset, pxwindw=300, wlwindow=400): \n",
    "    fig, (ax1, ax2) = plt.subplots(1,2)\n",
    "\n",
    "    ds, wlatlas, specatlas, linelist = specset #whats ds? #how linelist diff from wlatlas & specatlas?\n",
    "    \n",
    "    #first graph \n",
    "    plt.axes(ax1)\n",
    "    ds.plot_spec()\n",
    "    plt.axvline(pxguess, color='k', ls=':') #plot a vertical line where think peak pixel is in emission lines\n",
    "    plt.xlim(pxguess-pxwindw/2, pxguess+pxwindw/2)\n",
    "    plt.ylim(0, np.max(ds.spec1d[plt.xlim()[0] : plt.xlim()[1]])*1.05)\n",
    "    \n",
    "    #second graph\n",
    "    plt.axes(ax2)\n",
    "    plt.plot(wlatlas, specatlas)\n",
    "    plt.axvline(wlguess, color='k', ls=':')\n",
    "    plt.xlim(wlguess-wlwindow/2, wlguess+wlwindow/2)\n",
    "    \n",
    "    #defs the min & max wavelength peaks to use to scale in next lines\n",
    "    minpx = np.argmin(np.abs(wlatlas-(wlguess-wlwindow/2)))\n",
    "    maxpx = np.argmin(np.abs(wlatlas-(wlguess+wlwindow/2)))\n",
    "    \n",
    "    #sets wavelength scales based on graph size-ish\n",
    "    plt.ylim(0, specatlas[minpx:maxpx].max()*1.05)\n",
    "    guess = reduce_dblspec.nearest_in_line_list(wlguess, linelist)\n",
    "    plt.axvline(guess[0], color='r', ls=':') #for 1st wavelength to linelist match draw red vertical line\n",
    "    \n",
    "    return guess #outputs wavelength guesses based on atlas spec known linelists\n",
    "    \n",
    "#use e.g. guess_plot(3372, 9658, (rds, redwlnoao, redspecnoao, reduce_dblspec.HENEAR_LINE_LIST))"
   ]
  },
  {
   "cell_type": "code",
   "execution_count": 66,
   "metadata": {},
   "outputs": [
    {
     "data": {
      "text/plain": [
       "SIMPLE  =                    T  /  FITS STANDARD                                \n",
       "BITPIX  =                  -32  /  FITS BITS/PIXEL                              \n",
       "NAXIS   =                    1  /  NUMBER OF AXES                               \n",
       "NAXIS1  =                23642  /                                               \n",
       "OBJECT  = 'henear 3500A'        /                                               \n",
       "ORIGIN  = 'KPNO-IRAF'           /                                               \n",
       "DATE    = '26-07-96'            /                                               \n",
       "IRAFNAME= 'henear.spec'         /  NAME OF IRAF IMAGE FILE                      \n",
       "IRAF-MAX=           3.591000E3  /  DATA MAX                                     \n",
       "IRAF-MIN=           7.530000E2  /  DATA MIN                                     \n",
       "IRAF-BPX=                   32  /  DATA BITS/PIXEL                              \n",
       "IRAFTYPE= 'REAL    '            /  PIXEL TYPE                                   \n",
       "OBSERVAT= 'KPNO              '  /  observatory                                  \n",
       "OBSERVER= 'willmarth         '  /  observers                                    \n",
       "EXPTIME =               55.125  /  actual integration time                      \n",
       "DARKTIME=                 300.  /  total elapsed time                           \n",
       "IMAGETYP= 'comp              '  /  object, dark, bias, etc.                     \n",
       "DATE-OBS= '16/04/93          '  /  date (dd/mm/yy) of obs.                      \n",
       "UT      = '20:36:21.00'         /  universal time                               \n",
       "ST      = ' 2:49:56.00'         /  sidereal time                                \n",
       "RA      = '21:41:03.00'         /  right ascension                              \n",
       "DEC     = '-52:50:49.00'        /  declination                                  \n",
       "EPOCH   =               1993.3  /  epoch of ra and dec                          \n",
       "ZD      = '107.960           '  /  zenith distance                              \n",
       "AIRMASS =                 99.9  /  airmass                                      \n",
       "TELESCOP= 'kpcdf             '  /  telescope name                               \n",
       "DETECTOR= 't1ka              '  /  detector                                     \n",
       "PREFLASH=                    0  /  preflash time, seconds                       \n",
       "GAIN    =                  1.7  /  gain, electrons per adu                      \n",
       "DWELL   =                    8  /  sample integration time                      \n",
       "RDNOISE =                  3.5  /  read noise, electrons per adu                \n",
       "CAMTEMP =                 -111  /  camera temperature                           \n",
       "DEWTEMP =                 -193  /  dewar temperature                            \n",
       "CCDSEC  = '[2:1024,50:180]'     /  orientation to full frame                    \n",
       "ORIGSEC = '[1:1024,1:1024]   '  /  original size full frame                     \n",
       "CCDSUM  = '1 1               '  /  on chip summation                            \n",
       "INSTRUME= 'test              '  /  instrument                                   \n",
       "COMPLAMP= 'henear            '  /  comparison lamp                              \n",
       "DECKER  = '1                 '  /  decker                                       \n",
       "GRATPOS =               3499.2  /  grating position                             \n",
       "TRIM    = 'Apr 19 16:56 Trim data section is [2:1024,1:131]'                    \n",
       "OVERSCAN= 'Apr 19 16:56 Overscan section is [1026:1056,1:131] with mean=770.557'\n",
       "ZEROCOR = 'Apr 19 16:56 Zero level correction image is Zero'                    \n",
       "CCDPROC = 'Apr 19 16:56 CCD processing done'                                    \n",
       "APNUM1  = '1 1 49.92 74.78'                                                     \n",
       "WCSDIM  =                    1                                                  \n",
       "CTYPE1  = 'LINEAR  '                                                            \n",
       "CRVAL1  =      3296.2763671875                                                  \n",
       "CRPIX1  =                   1.                                                  \n",
       "CDELT1  =     0.34725826978683                                                  \n",
       "CD1_1   =     0.34725826978683                                                  \n",
       "LTM1_1  =                   1.                                                  \n",
       "WAT0_001= 'system=equispec                                                     '\n",
       "WAT1_001= 'wtype=linear label=Wavelength units=Angstroms                       '\n",
       "DC-FLAG =                    0                                                  \n",
       "DCLOG1  = 'REFSPEC1 = a0002.ms'                                                 \n",
       "NCOMBINE=                   16                                                  \n",
       "HISTORY 'KPNO-IRAF'           /                                                 \n",
       "HISTORY '16-04-93'            /                                                 \n",
       "HISTORY New copy of a0002.imh                                                   \n",
       "HISTORY New copy of a0002                                                       \n",
       "HISTORY New copy of a0002.ms.imh                                                \n",
       "HISTORY New copy of d0002.ms.imh                                                "
      ]
     },
     "execution_count": 66,
     "metadata": {},
     "output_type": "execute_result"
    }
   ],
   "source": [
    "#Redside cam\n",
    "\n",
    "#opening and locating the HeNeAr well know spec lines via atlas\n",
    "redatlas = fits.open('henear.fits') #NOAO atlas\n",
    "h = redatlas[0].header\n",
    "redspecnoao = redatlas[0].data\n",
    "\n",
    "#maybe matching atlas known spec lines to wavelength - see more info in comments on blueside cam\n",
    "redwlnoao = h['CRVAL1'] + h['CD1_1']*(np.arange(len(redspecnoao)) - h['CRPIX1'] + 1) #+1 is for 0-based\n",
    "#CRVAL1 = 3296.2763671875 #CD1_1 = 0.34725826978683 #CRPIX1 = 1.\n",
    "h"
   ]
  },
  {
   "cell_type": "code",
   "execution_count": 67,
   "metadata": {},
   "outputs": [],
   "source": [
    "#Blueside cam\n",
    "\n",
    "#opening and locating the FeAr well know spec lines via atlas\n",
    "blueatlas = fits.open('fear.fits') #NOAO atlas\n",
    "h = blueatlas[0].header\n",
    "bluespecnoao = blueatlas[0].data\n",
    "#bluespecnoao #think this is the known spec lines but no order or units so....wavelength/separation/pixel??\n",
    "#its a numpy array of floats len=39709 - 10s to 1,000,000s in values but in no order/pattern/trend\n",
    "\n",
    "\n",
    "#maybe matching atlas known spec lines to wavelength\n",
    "bluewlnoao = h['CRVAL1'] + h['CD1_1']*(np.arange(len(bluespecnoao)) - h['CRPIX1'] + 1) #+1 is for 0-based\n",
    "##CRVAL1 is (3003.4624023437) #CD1_1 is (0.2) #CRPIX1 is (1.) * (putting spec values in order)-something about pixels)\n",
    "#those values are nice but idk what the CR or CD parts references"
   ]
  },
  {
   "cell_type": "markdown",
   "metadata": {},
   "source": [
    "### Collecting questions for above cells\n",
    "#### what does CR & CD stand for in 'CRVAL1', 'CRPIX1', 'CD1_1'?\n",
    "#### what does ds stand for in 'guess_plot' fcn?\n",
    "#### how is linelist different from wlatlas & specatlas in 'guess_plot' fcn?"
   ]
  },
  {
   "cell_type": "markdown",
   "metadata": {},
   "source": [
    "## Red Dispersion (1.5\")"
   ]
  },
  {
   "cell_type": "code",
   "execution_count": null,
   "metadata": {},
   "outputs": [],
   "source": []
  },
  {
   "cell_type": "code",
   "execution_count": 68,
   "metadata": {},
   "outputs": [
    {
     "name": "stderr",
     "output_type": "stream",
     "text": [
      "/Users/drowland/Desktop/data_pipeline/reduce_dblspec.py:256: RuntimeWarning: invalid value encountered in sqrt\n",
      "  unc = (result/self.header['GAIN'] + self.unc[tsl]**2)**0.5\n"
     ]
    },
    {
     "data": {
      "text/plain": [
       "[<matplotlib.lines.Line2D at 0x116cc66a0>]"
      ]
     },
     "execution_count": 68,
     "metadata": {},
     "output_type": "execute_result"
    },
    {
     "data": {
      "image/png": "[encoded data removed]",
      "text/plain": [
       "<matplotlib.figure.Figure at 0x12a42b860>"
      ]
     },
     "metadata": {},
     "output_type": "display_data"
    }
   ],
   "source": [
    "#1D spec extraction from atlas lists/specs\n",
    "\n",
    "#setting dimensions & locations of plots\n",
    "fig, (ax1, ax2) = plt.subplots(2,1)\n",
    "ax1.plot(redwlnoao, redspecnoao)\n",
    "ax1.set_xlim(5000,10000)\n",
    "\n",
    "#extracts 1D spec from arcimag and outputs line pixel to wl\n",
    "#this one line is doing a dispersion solution to the:\n",
    "#((data) that has overscan subtraction and trimming done to it and image flattened w/ (created above,normalized flat-rnfl), aperature)\n",
    "rds = reduce_dblspec.DispersionSolution(reduce_dblspec.DoubleSpecImage('20170518/red0017.fits').overscan_sub_and_trim().flatten(rnfl), (320, 360))\n",
    "\n",
    "#plotting what the above line did\n",
    "plt.axes(ax2)\n",
    "#orders the 1D spec outputted above and uses plt to plot\n",
    "rds.plot_spec()"
   ]
  },
  {
   "cell_type": "code",
   "execution_count": 69,
   "metadata": {},
   "outputs": [],
   "source": [
    "#exploring the module, must call module then class then fcn to see what fcn does - like tree branches need bases\n",
    "\n",
    "#help(reduce_dblspec.DispersionSolution.overscan_sub_and_trim)\n",
    "#help(reduce_dblspec.DispersionSolution)\n",
    "#help(reduce_dblspec)"
   ]
  },
  {
   "cell_type": "code",
   "execution_count": 70,
   "metadata": {},
   "outputs": [
    {
     "name": "stderr",
     "output_type": "stream",
     "text": [
      "/Users/drowland/Desktop/data_pipeline/reduce_dblspec.py:256: RuntimeWarning: invalid value encountered in sqrt\n",
      "  unc = (result/self.header['GAIN'] + self.unc[tsl]**2)**0.5\n"
     ]
    },
    {
     "name": "stdout",
     "output_type": "stream",
     "text": [
      "Skipping line HeI at wl=3187.745 - out of wl min/max\n",
      "Skipping line ArII at wl=3307.2283 - out of wl min/max\n",
      "Skipping line ArI at wl=3319.3446 - out of wl min/max\n",
      "Skipping line ArII at wl=3350.9243 - out of wl min/max\n",
      "Skipping line HeI at wl=3354.55 - out of wl min/max\n",
      "Skipping line ArI at wl=3373.4823 - out of wl min/max\n",
      "Skipping line ArII at wl=3376.4359 - out of wl min/max\n",
      "Skipping line ArII at wl=3388.5309 - out of wl min/max\n",
      "Skipping line NeII at wl=3397.866 - out of wl min/max\n",
      "Skipping line ArI at wl=3406.1804 - out of wl min/max\n",
      "Skipping line ArII at wl=3414.4583 - out of wl min/max\n",
      "Skipping line NeI at wl=3417.9035 - out of wl min/max\n",
      "Skipping line ArII at wl=3421.6107 - out of wl min/max\n",
      "Skipping line ArII at wl=3454.0952 - out of wl min/max\n",
      "Skipping line ArII at wl=3464.1272 - out of wl min/max\n",
      "Skipping line NeI at wl=3472.5711 - out of wl min/max\n",
      "Skipping line ArII at wl=3476.7474 - out of wl min/max\n",
      "Skipping line ArII at wl=3480.5055 - out of wl min/max\n",
      "Skipping line ArII at wl=3509.7785 - out of wl min/max\n",
      "Skipping line ArII at wl=3514.3877 - out of wl min/max\n",
      "Skipping line ArII at wl=3535.3196 - out of wl min/max\n",
      "Skipping line ArII at wl=3548.5144 - out of wl min/max\n",
      "Skipping line ArI at wl=3554.3058 - out of wl min/max\n",
      "Skipping line ArII at wl=3559.5081 - out of wl min/max\n",
      "Skipping line ArII at wl=3561.0304 - out of wl min/max\n",
      "Skipping line ArI at wl=3567.6564 - out of wl min/max\n",
      "Skipping line ArI at wl=3572.296 - out of wl min/max\n",
      "Skipping line ArII at wl=3576.6156 - out of wl min/max\n",
      "Skipping line ArII at wl=3588.4407 - out of wl min/max\n",
      "Skipping line NeI at wl=3600.1691 - out of wl min/max\n",
      "Skipping line ArI at wl=3606.5218 - out of wl min/max\n",
      "Skipping line HeI at wl=3613.643 - out of wl min/max\n",
      "Skipping line ArII at wl=3622.1375 - out of wl min/max\n",
      "Skipping line ArII at wl=3637.031 - out of wl min/max\n",
      "Skipping line ArII at wl=3639.8329 - out of wl min/max\n",
      "Skipping line ArI at wl=3643.1169 - out of wl min/max\n",
      "Skipping line ArII at wl=3655.2782 - out of wl min/max\n",
      "Skipping line ArI at wl=3690.8951 - out of wl min/max\n",
      "Skipping line ArII at wl=3718.2065 - out of wl min/max\n",
      "Skipping line ArII at wl=3720.4265 - out of wl min/max\n",
      "Skipping line ArII at wl=3724.5165 - out of wl min/max\n",
      "Skipping line ArII at wl=3729.3087 - out of wl min/max\n",
      "Skipping line ArII at wl=3737.889 - out of wl min/max\n",
      "Skipping line ArII at wl=3780.8398 - out of wl min/max\n",
      "Skipping line ArII at wl=3786.3824 - out of wl min/max\n",
      "Skipping line ArII at wl=3796.5934 - out of wl min/max\n",
      "Skipping line ArII at wl=3799.382 - out of wl min/max\n",
      "Skipping line ArII at wl=3803.1724 - out of wl min/max\n",
      "Skipping line ArII at wl=3809.4561 - out of wl min/max\n",
      "Skipping line HeI at wl=3819.6072 - out of wl min/max\n",
      "Skipping line ArI at wl=3834.6787 - out of wl min/max\n",
      "Skipping line ArII at wl=3850.5813 - out of wl min/max\n",
      "Skipping line ArII at wl=3868.5284 - out of wl min/max\n",
      "Skipping line ArII at wl=3875.2645 - out of wl min/max\n",
      "Skipping line HeI at wl=3888.648 - out of wl min/max\n",
      "Skipping line ArII at wl=3914.7675 - out of wl min/max\n",
      "Skipping line ArII at wl=3925.7188 - out of wl min/max\n",
      "Skipping line ArII at wl=3928.6233 - out of wl min/max\n",
      "Skipping line ArII at wl=3932.5466 - out of wl min/max\n",
      "Skipping line ArII at wl=3946.0971 - out of wl min/max\n",
      "Skipping line ArI at wl=3947.5046 - out of wl min/max\n",
      "Skipping line ArI at wl=3948.9789 - out of wl min/max\n",
      "Skipping line HeI at wl=3964.7289 - out of wl min/max\n",
      "Skipping line ArII at wl=3968.3594 - out of wl min/max\n",
      "Skipping line ArII at wl=3974.4766 - out of wl min/max\n",
      "Skipping line ArII at wl=3979.3559 - out of wl min/max\n",
      "Skipping line ArII at wl=3994.7918 - out of wl min/max\n",
      "Skipping line HeI at wl=4009.268 - out of wl min/max\n",
      "Skipping line ArII at wl=4013.8566 - out of wl min/max\n",
      "Skipping line ArII at wl=4033.8093 - out of wl min/max\n",
      "Skipping line ArII at wl=4035.46 - out of wl min/max\n",
      "Skipping line ArI at wl=4044.4179 - out of wl min/max\n",
      "Skipping line ArII at wl=4052.9208 - out of wl min/max\n",
      "Skipping line ArI at wl=4054.5258 - out of wl min/max\n",
      "Skipping line ArII at wl=4082.3872 - out of wl min/max\n",
      "Skipping line ArII at wl=4103.9121 - out of wl min/max\n",
      "Skipping line ArII at wl=4112.8153 - out of wl min/max\n",
      "Skipping line HeI at wl=4120.815 - out of wl min/max\n",
      "Skipping line ArII at wl=4131.7235 - out of wl min/max\n",
      "Skipping line ArII at wl=4156.086 - out of wl min/max\n",
      "Skipping line ArI at wl=4158.5907 - out of wl min/max\n",
      "Skipping line ArI at wl=4164.1795 - out of wl min/max\n",
      "Skipping line HeI at wl=4168.967 - out of wl min/max\n",
      "Skipping line ArI at wl=4181.8836 - out of wl min/max\n",
      "Skipping line ArI at wl=4198.317 - out of wl min/max\n",
      "Skipping line ArI at wl=4200.6745 - out of wl min/max\n",
      "Skipping line ArII at wl=4222.6373 - out of wl min/max\n",
      "Skipping line ArII at wl=4237.2198 - out of wl min/max\n",
      "Skipping line ArI at wl=4251.1846 - out of wl min/max\n",
      "Skipping line ArI at wl=4259.3619 - out of wl min/max\n",
      "Skipping line ArI at wl=4272.1689 - out of wl min/max\n",
      "Skipping line ArII at wl=4277.5282 - out of wl min/max\n",
      "Skipping line ArII at wl=4282.8976 - out of wl min/max\n",
      "Skipping line ArI at wl=4300.1008 - out of wl min/max\n",
      "Skipping line ArII at wl=4331.1995 - out of wl min/max\n",
      "Skipping line ArI at wl=4333.5612 - out of wl min/max\n",
      "Skipping line ArI at wl=4335.3379 - out of wl min/max\n",
      "Skipping line ArI at wl=4345.168 - out of wl min/max\n",
      "Skipping line ArII at wl=4348.064 - out of wl min/max\n",
      "Skipping line ArII at wl=4352.2049 - out of wl min/max\n",
      "Skipping line ArII at wl=4367.8316 - out of wl min/max\n",
      "Skipping line ArII at wl=4379.6668 - out of wl min/max\n",
      "Skipping line ArII at wl=4426.0011 - out of wl min/max\n",
      "Skipping line ArII at wl=4430.189 - out of wl min/max\n",
      "Skipping line HeI at wl=4437.551 - out of wl min/max\n",
      "Skipping line ArII at wl=4448.8792 - out of wl min/max\n",
      "Skipping line KrI at wl=4453.9177 - out of wl min/max\n",
      "Skipping line KrI at wl=4463.6901 - out of wl min/max\n",
      "Skipping line HeI at wl=4471.479 - out of wl min/max\n",
      "Skipping line ArII at wl=4474.7594 - out of wl min/max\n",
      "Skipping line ArII at wl=4481.8107 - out of wl min/max\n",
      "Skipping line ArII at wl=4490.9816 - out of wl min/max\n",
      "Skipping line ArII at wl=4498.5384 - out of wl min/max\n",
      "Skipping line KrI at wl=4502.3546 - out of wl min/max\n",
      "Skipping line ArI at wl=4510.7332 - out of wl min/max\n",
      "Skipping line ArI at wl=4522.323 - out of wl min/max\n",
      "Skipping line ArII at wl=4530.5523 - out of wl min/max\n",
      "Skipping line ArII at wl=4535.4903 - out of wl min/max\n",
      "Skipping line ArII at wl=4537.6426 - out of wl min/max\n",
      "Skipping line ArII at wl=4545.0519 - out of wl min/max\n",
      "Skipping line ArII at wl=4579.3495 - out of wl min/max\n",
      "Skipping line ArII at wl=4589.8978 - out of wl min/max\n",
      "Skipping line ArI at wl=4596.0967 - out of wl min/max\n",
      "Skipping line ArII at wl=4598.7627 - out of wl min/max\n",
      "Skipping line ArII at wl=4609.5673 - out of wl min/max\n",
      "Skipping line ArI at wl=4628.4409 - out of wl min/max\n",
      "Skipping line ArII at wl=4637.2328 - out of wl min/max\n",
      "Skipping line ArII at wl=4657.9012 - out of wl min/max\n",
      "Skipping line ArI at wl=4702.3161 - out of wl min/max\n",
      "Skipping line HeI at wl=4713.1455 - out of wl min/max\n",
      "Skipping line ArII at wl=4721.591 - out of wl min/max\n",
      "Skipping line ArII at wl=4726.8683 - out of wl min/max\n",
      "Skipping line ArII at wl=4735.9058 - out of wl min/max\n",
      "Skipping line ArII at wl=4764.8646 - out of wl min/max\n",
      "Skipping line ArI at wl=4768.675 - out of wl min/max\n",
      "Skipping line ArII at wl=4806.0205 - out of wl min/max\n",
      "Skipping line ArII at wl=4847.8095 - out of wl min/max\n",
      "Skipping line ArII at wl=4865.91 - out of wl min/max\n",
      "Skipping line ArI at wl=4876.2611 - out of wl min/max\n",
      "Skipping line ArII at wl=4879.8635 - out of wl min/max\n",
      "Skipping line ArI at wl=4894.6909 - out of wl min/max\n",
      "Skipping line ArII at wl=4904.7516 - out of wl min/max\n",
      "Skipping line HeI at wl=4921.931 - out of wl min/max\n",
      "Skipping line ArII at wl=4933.2091 - out of wl min/max\n",
      "Skipping line ArII at wl=4965.0795 - out of wl min/max\n",
      "Skipping line ArII at wl=4972.1597 - out of wl min/max\n",
      "Skipping line ArII at wl=5009.3344 - out of wl min/max\n",
      "Skipping line HeI at wl=5015.6779 - out of wl min/max\n",
      "Skipping line HeI at wl=5047.738 - out of wl min/max\n",
      "Skipping line ArII at wl=5062.0371 - out of wl min/max\n",
      "Skipping line ArII at wl=5141.7827 - out of wl min/max\n",
      "Skipping line ArII at wl=5145.3083 - out of wl min/max\n",
      "Skipping line ArI at wl=5151.3907 - out of wl min/max\n",
      "Skipping line ArI at wl=5162.2846 - out of wl min/max\n",
      "Skipping line ArI at wl=5187.7462 - out of wl min/max\n",
      "Skipping line ArI at wl=5221.271 - out of wl min/max\n",
      "Skipping line ArI at wl=5252.788 - out of wl min/max\n",
      "Skipping line NeI at wl=5330.7775 - out of wl min/max\n",
      "Skipping line ArI at wl=5373.4943 - out of wl min/max\n",
      "Skipping line ArI at wl=5393.9719 - out of wl min/max\n",
      "Skipping line NeI at wl=5400.5617 - out of wl min/max\n",
      "Skipping line ArI at wl=5410.473 - out of wl min/max\n",
      "Skipping line ArI at wl=5421.3517 - out of wl min/max\n",
      "Skipping line ArI at wl=5451.652 - out of wl min/max\n",
      "Skipping line ArI at wl=5467.1704 - out of wl min/max\n",
      "Skipping line ArI at wl=5473.4516 - out of wl min/max\n",
      "Skipping line ArI at wl=5495.8738 - out of wl min/max\n",
      "Skipping line ArI at wl=5506.1128 - out of wl min/max\n",
      "Skipping line ArI at wl=5524.957 - out of wl min/max\n",
      "Skipping line ArI at wl=5588.72 - out of wl min/max\n",
      "Skipping line ArI at wl=5597.4756 - out of wl min/max\n",
      "Failed to find line ArI at wl=5606.733: \"Guessed line's peak to base ratio is 1.1815609980572312, which is less than 10\"\n",
      "Failed to find line ArI at wl=5681.9001: \"Tried to find peak at 789.7276894809278 but it's in a valley, not a peak\"\n"
     ]
    },
    {
     "name": "stdout",
     "output_type": "stream",
     "text": [
      "Failed to find line NeI at wl=5689.8163: \"Guessed line's peak to base ratio is 1.2556538590619277, which is less than 10\"\n",
      "Failed to find line ArI at wl=5700.873: \"Guessed line's peak to base ratio is 1.051865679141749, which is less than 10\"\n",
      "Failed to find line ArI at wl=5739.5196: \"Guessed line's peak to base ratio is 0.9910847566733186, which is less than 10\"\n",
      "Failed to find line NeI at wl=5748.2985: \"Tried to find peak at 833.4167296097893 but it's in a valley, not a peak\"\n",
      "Failed to find line NeI at wl=5764.4188: \"Guessed line's peak to base ratio is 1.4976252660245597, which is less than 10\"\n",
      "Failed to find line ArI at wl=5772.1143: \"Tried to find peak at 849.0788981613118 but it's in a valley, not a peak\"\n",
      "Failed to find line ArI at wl=5783.536: \"Guessed line's peak to base ratio is 1.445428546987968, which is less than 10\"\n",
      "Failed to find line NeI at wl=5820.1558: \"Guessed line's peak to base ratio is 1.0994545232299133, which is less than 10\"\n",
      "Failed to find line NeI at wl=5852.4878: \"Guessed line's peak to base ratio is 4.330503236708999, which is less than 10\"\n",
      "Failed to find line HeI at wl=5875.621: \"Guessed line's peak to base ratio is 4.771091533643671, which is less than 10\"\n",
      "Failed to find line NeI at wl=5881.895: \"Tried to find peak at 921.2199652006714 but it's in a valley, not a peak\"\n",
      "Failed to find line ArI at wl=5888.5841: \"Tried to find peak at 925.6127615032312 but it's in a valley, not a peak\"\n",
      "Failed to find line ArI at wl=5912.0853: \"Guessed line's peak to base ratio is 0.9612838576710953, which is less than 10\"\n",
      "Failed to find line ArI at wl=5928.813: \"Guessed line's peak to base ratio is 1.0452934889779206, which is less than 10\"\n",
      "Failed to find line NeI at wl=5944.8342: \"Guessed line's peak to base ratio is 5.404499218808295, which is less than 10\"\n",
      "Failed to find line NeI at wl=5975.534: \"Guessed line's peak to base ratio is 2.2379767473596304, which is less than 10\"\n",
      "Failed to find line ArI at wl=6043.2233: \"Tried to find peak at 1027.0770657221706 but it's in a valley, not a peak\"\n",
      "Failed to find line NeI at wl=6074.3377: \"Guessed line's peak to base ratio is 4.207005351255225, which is less than 10\"\n",
      "Failed to find line NeI at wl=6096.1631: \"Guessed line's peak to base ratio is 4.091641400790381, which is less than 10\"\n",
      "Failed to find line ArII at wl=6114.9234: \"Guessed line's peak to base ratio is 1.0810370382290493, which is less than 10\"\n",
      "Failed to find line NeI at wl=6128.4499: \"Guessed line's peak to base ratio is 1.2463939934250094, which is less than 10\"\n",
      "Failed to find line NeI at wl=6143.0626: \"Guessed line's peak to base ratio is 5.2213745899007025, which is less than 10\"\n",
      "Failed to find line ArI at wl=6155.2385: \"Tried to find peak at 1100.4715828929782 but it's in a valley, not a peak\"\n",
      "Failed to find line NeI at wl=6163.5939: \"Guessed line's peak to base ratio is 4.2260927255741825, which is less than 10\"\n",
      "Failed to find line ArI at wl=6212.5031: \"Guessed line's peak to base ratio is 5.529612289256178, which is less than 10\"\n",
      "Failed to find line NeI at wl=6217.2812: \"Guessed line's peak to base ratio is 5.529612289256178, which is less than 10\"\n",
      "Failed to find line NeI at wl=6266.495: \"Guessed line's peak to base ratio is 6.29824135607916, which is less than 10\"\n",
      "Failed to find line ArI at wl=6296.8722: \"Guessed line's peak to base ratio is 0.9753195066215067, which is less than 10\"\n",
      "Failed to find line NeI at wl=6304.789: \"Guessed line's peak to base ratio is 4.343532339220427, which is less than 10\"\n",
      "Failed to find line NeI at wl=6334.4278: \"Guessed line's peak to base ratio is 5.794380052258801, which is less than 10\"\n",
      "Failed to find line NeI at wl=6382.9917: \"Guessed line's peak to base ratio is 7.630334217651462, which is less than 10\"\n",
      "Found line NeI at wl=6402.246\n",
      "Clipped 0 lines\n",
      "Failed to find line ArI at wl=6416.3071: \"Guessed line's peak to base ratio is 0.9575269177799122, which is less than 10\"\n",
      "Failed to find line KrI at wl=6456.291: \"Tried to find peak at 1297.3465435448306 but it's in a valley, not a peak\"\n",
      "Failed to find line NeI at wl=6506.5281: \"Guessed line's peak to base ratio is 8.239201846692765, which is less than 10\"\n",
      "Failed to find line NeI at wl=6532.8822: \"Guessed line's peak to base ratio is 7.576329543004375, which is less than 10\"\n",
      "Failed to find line NeI at wl=6598.9529: \"Guessed line's peak to base ratio is 8.214572789209587, which is less than 10\"\n",
      "Failed to find line NeI at wl=6717.043: \"Guessed line's peak to base ratio is 8.736304026316727, which is less than 10\"\n",
      "Failed to find line ArI at wl=6752.8335: \"Guessed line's peak to base ratio is 1.7194522515335395, which is less than 10\"\n",
      "Failed to find line ArI at wl=6766.6117: \"Guessed line's peak to base ratio is 1.0488159850025423, which is less than 10\"\n",
      "Failed to find line ArI at wl=6871.2891: \"Guessed line's peak to base ratio is 1.422941171354435, which is less than 10\"\n",
      "Found line NeI at wl=6929.4673\n",
      "Clipped 0 lines\n",
      "Failed to find line ArI at wl=6937.6642: \"Guessed line's peak to base ratio is 0.997472100242667, which is less than 10\"\n",
      "Found line ArI at wl=6965.4307\n",
      "Clipped 0 lines\n",
      "Failed to find line NeI at wl=7024.0504: \"Guessed line's peak to base ratio is 0.4809137680516027, which is less than 10\"\n",
      "Found line NeI at wl=7032.4131\n",
      "Clipped 0 lines\n",
      "Failed to find line ArI at wl=7107.4778: \"Guessed line's peak to base ratio is 1.1351246356274955, which is less than 10\"\n",
      "Failed to find line ArI at wl=7125.82: \"Tried to find peak at 1733.3232889166072 but it's in a valley, not a peak\"\n",
      "Failed to find line ArI at wl=7147.0416: \"Guessed line's peak to base ratio is 7.234247704343876, which is less than 10\"\n",
      "Failed to find line NeI at wl=7173.9381: \"Guessed line's peak to base ratio is 6.022323636469295, which is less than 10\"\n",
      "Failed to find line ArI at wl=7206.9804: \"Guessed line's peak to base ratio is 1.1520670512808577, which is less than 10\"\n",
      "Failed to find line NeI at wl=7245.1666: \"Guessed line's peak to base ratio is 9.71286848647788, which is less than 10\"\n",
      "Failed to find line ArI at wl=7272.9359: \"Guessed line's peak to base ratio is 1.70345742007994, which is less than 10\"\n",
      "Failed to find line HeI at wl=7281.349: \"Guessed line's peak to base ratio is 7.14150308130225, which is less than 10\"\n",
      "Failed to find line ArI at wl=7353.293: \"Tried to find peak at 1881.0085680568388 but it's in a valley, not a peak\"\n",
      "Failed to find line ArI at wl=7372.1184: \"Guessed line's peak to base ratio is 1.4085618089519034, which is less than 10\"\n",
      "Found line ArI at wl=7383.9805\n",
      "Clipped 0 lines\n",
      "Failed to find line NeI at wl=7488.8712: \"Guessed line's peak to base ratio is 2.1803035773828703, which is less than 10\"\n",
      "Found line ArI at wl=7503.8691\n",
      "Clipped 0 lines\n",
      "Failed to find line ArI at wl=7514.6518: \"Guessed line's peak to base ratio is 6.515277897571644, which is less than 10\"\n",
      "Failed to find line NeI at wl=7535.7739: \"Guessed line's peak to base ratio is 1.954924185705863, which is less than 10\"\n",
      "Failed to find line NeI at wl=7544.0443: \"Guessed line's peak to base ratio is 1.3298696137137322, which is less than 10\"\n",
      "Failed to find line KrI at wl=7587.413: \"Guessed line's peak to base ratio is 1.022000087883502, which is less than 10\"\n",
      "Failed to find line KrI at wl=7601.5443: \"Tried to find peak at 2041.967501580285 but it's in a valley, not a peak\"\n",
      "Found line ArI at wl=7635.106\n",
      "Clipped 0 lines\n",
      "Failed to find line KrI at wl=7685.246: \"Guessed line's peak to base ratio is 0.9961512863913919, which is less than 10\"\n",
      "Failed to find line KrI at wl=7694.5393: \"Guessed line's peak to base ratio is 1.0578827797865025, which is less than 10\"\n",
      "Failed to find line KrI at wl=7854.8215: \"Guessed line's peak to base ratio is 0.8644155931496915, which is less than 10\"\n",
      "Failed to find line ArI at wl=7891.075: \"Guessed line's peak to base ratio is 0.9941144590061228, which is less than 10\"\n",
      "Failed to find line KrI at wl=7913.4242: \"Guessed line's peak to base ratio is 1.0229280821470732, which is less than 10\"\n",
      "Found line ArI at wl=7948.1764\n",
      "Clipped 0 lines\n",
      "Failed to find line ArI at wl=8006.1567: \"Guessed line's peak to base ratio is 4.148138032795113, which is less than 10\"\n",
      "Failed to find line ArI at wl=8014.7857: \"Guessed line's peak to base ratio is 3.3988140467662045, which is less than 10\"\n",
      "Failed to find line KrI at wl=8059.5038: \"Guessed line's peak to base ratio is 0.9784268022083137, which is less than 10\"\n",
      "Found line ArI at wl=8103.6931\n",
      "Clipped 0 lines\n",
      "Found line ArI at wl=8115.311\n",
      "Clipped 0 lines\n",
      "Failed to find line KrI at wl=8190.0543: \"Tried to find peak at 2422.979481388916 but it's in a valley, not a peak\"\n",
      "Found line ArI at wl=8264.5225\n",
      "Clipped 0 lines\n",
      "Failed to find line KrI at wl=8281.0495: \"Guessed line's peak to base ratio is 1.0426190628335574, which is less than 10\"\n",
      "Failed to find line NeI at wl=8377.6065: \"Guessed line's peak to base ratio is 7.738441232843095, which is less than 10\"\n",
      "Found line ArI at wl=8408.2096\n",
      "Clipped 0 lines\n",
      "Found line ArI at wl=8424.6475\n",
      "Clipped 0 lines\n",
      "Failed to find line NeI at wl=8495.3598: \"Guessed line's peak to base ratio is 6.927245602779625, which is less than 10\"\n",
      "Failed to find line KrI at wl=8508.87: \"Guessed line's peak to base ratio is 0.918376926620163, which is less than 10\"\n",
      "Found line ArI at wl=8521.4422\n",
      "Clipped 0 lines\n",
      "Failed to find line NeI at wl=8591.2583: \"Guessed line's peak to base ratio is 3.0391380134241954, which is less than 10\"\n",
      "Failed to find line ArI at wl=8605.7762: \"Guessed line's peak to base ratio is 1.2334052801574638, which is less than 10\"\n",
      "Failed to find line ArI at wl=8620.4602: \"Guessed line's peak to base ratio is 1.0300314312704435, which is less than 10\"\n",
      "Failed to find line NeI at wl=8634.647: \"Guessed line's peak to base ratio is 4.928016112470143, which is less than 10\"\n",
      "Failed to find line NeI at wl=8654.3831: \"Guessed line's peak to base ratio is 5.617425653491927, which is less than 10\"\n",
      "Found line ArI at wl=8667.9442\n",
      "Clipped 0 lines\n"
     ]
    },
    {
     "name": "stdout",
     "output_type": "stream",
     "text": [
      "Failed to find line KrI at wl=8776.749: \"Guessed line's peak to base ratio is 3.9652529661526805, which is less than 10\"\n",
      "Failed to find line ArI at wl=8799.0875: \"Guessed line's peak to base ratio is 1.0494821581342502, which is less than 10\"\n",
      "Failed to find line NeI at wl=8919.5007: \"Guessed line's peak to base ratio is 1.3248447773221637, which is less than 10\"\n",
      "Failed to find line KrI at wl=8928.692: \"Guessed line's peak to base ratio is 1.0279917560232392, which is less than 10\"\n",
      "Found line ArI at wl=9122.9674\n",
      "Clipped 0 lines\n",
      "Failed to find line ArI at wl=9194.6385: \"Guessed line's peak to base ratio is 1.8855173051108536, which is less than 10\"\n",
      "Found line ArI at wl=9224.4992\n",
      "Clipped 0 lines\n",
      "Failed to find line ArI at wl=9291.5313: \"Guessed line's peak to base ratio is 1.7275629963431103, which is less than 10\"\n",
      "Found line ArI at wl=9354.2198\n",
      "Clipped 0 lines\n",
      "Found line ArI at wl=9657.7863\n",
      "Clipped 0 lines\n",
      "Failed to find line KrI at wl=9751.759: \"Tried to find peak at 3432.1308715494465 but it's in a valley, not a peak\"\n",
      "Found line ArI at wl=9784.5028\n",
      "Clipped 0 lines\n",
      "Failed to find line KrI at wl=9856.24: \"Guessed line's peak to base ratio is 1.20571007873671, which is less than 10\"\n",
      "Failed to find line ArI at wl=10052.1: \"Tried to find peak at 3626.4806708247697 but it's in a valley, not a peak\"\n",
      "Failed to find line ArI at wl=10254.04: \"Guessed line's peak to base ratio is 1.058638853121546, which is less than 10\"\n",
      "Failed to find line ArI at wl=10309.15: \"Guessed line's peak to base ratio is 1.8606837892907127, which is less than 10\"\n",
      "Failed to find line ArI at wl=10332.76: \"Guessed line's peak to base ratio is 1.3080408210840722, which is less than 10\"\n",
      "Failed to find line KrI at wl=10360.37: \"Guessed line's peak to base ratio is 1.5019050646895429, which is less than 10\"\n",
      "Failed to find line ArI at wl=10470.054: \"Guessed line's peak to base ratio is 2.712832272546, which is less than 10\"\n",
      "Failed to find line ArI at wl=10506.47: \"Guessed line's peak to base ratio is 0.981763673959208, which is less than 10\"\n",
      "Failed to find line ArI at wl=10529.32: \"Guessed line's peak to base ratio is 1.180534490480947, which is less than 10\"\n",
      "Failed to find line KrI at wl=10593.01: \"Tried to find peak at 3976.862393064543 but it's in a valley, not a peak\"\n",
      "Failed to find line ArI at wl=10673.55: \"Guessed line's peak to base ratio is 1.652289139167317, which is less than 10\"\n",
      "Failed to find line ArI at wl=10681.78: \"Tried to find peak at 4034.445936499984 but it's in a valley, not a peak\"\n",
      "Failed to find line ArI at wl=10712.77: \"Guessed line's peak to base ratio is 1.2152129551660449, which is less than 10\"\n",
      "Failed to find line ArI at wl=10733.87: \"Tried to find peak at 4068.2482784156 but it's in a valley, not a peak\"\n",
      "Failed to find line ArI at wl=10759.13: \"Guessed line's peak to base ratio is 0.9343396126100081, which is less than 10\"\n",
      "Failed to find line ArI at wl=10773.35: \"Guessed line's peak to base ratio is 1.1569344462840814, which is less than 10\"\n",
      "Failed to find line NeI at wl=10798.12: \"Guessed line's peak to base ratio is 1.196779633412707, which is less than 10\"\n",
      "Failed to find line HeI at wl=10830.337: \"requested peak location is not in the spectrum\"\n",
      "Failed to find line NeI at wl=10844.54: \"requested peak location is not in the spectrum\"\n",
      "Failed to find line ArI at wl=10880.96: \"requested peak location is not in the spectrum\"\n",
      "Failed to find line ArI at wl=10950.74: \"requested peak location is not in the spectrum\"\n",
      "Failed to find line ArI at wl=11078.87: \"requested peak location is not in the spectrum\"\n",
      "Failed to find line ArI at wl=11106.44: \"requested peak location is not in the spectrum\"\n"
     ]
    },
    {
     "data": {
      "text/plain": [
       "(20, 108)"
      ]
     },
     "execution_count": 70,
     "metadata": {},
     "output_type": "execute_result"
    }
   ],
   "source": [
    "#naming the overscanned & trimmed data image that is also flattened with prior created normalized flat\n",
    "redarcimg15 = reduce_dblspec.DoubleSpecImage('20170518/red0017.fits').overscan_sub_and_trim().flatten(rnfl)\n",
    "\n",
    "#naming the dispersion solution to (above line data, aperature dimensions, 3rd degree poly) \n",
    "rds = reduce_dblspec.DispersionSolution(redarcimg15, (320, 360), poly_order=3)\n",
    "\n",
    "#want to guess line location(guess of peak line location, real wavelength of the line)\n",
    "#returns slightly more accurate value for 1st input based on 2nd\n",
    "rds.guess_line_loc(3372, 9657.78) #why these particular wavelengths/ what emission is this?\n",
    "rds.guess_line_loc(3027, 9122.967)\n",
    "rds.guess_line_loc(2375, 8115.31)\n",
    "rds.guess_line_loc(2065, 7635.1)\n",
    "rds.guess_line_loc(1630, 6965.43) \n",
    "#kinda confused by these b/c thought needs 4 inputs not 2-(minpeakrati, addtosoln) they dont seem necessary tho\n",
    "\n",
    "#this runs thru atlas known spec lines & tries to match peaks to wl in specified range in ()\n",
    "rds.guess_from_line_list(reduce_dblspec.HENEAR_LINE_LIST,minpeakratio=10, continuous_fit=True, sigmaclip=True, min_wl=5600)\n",
    "#HENEAR_LINE_LIST is a list in reduce_dblspec module of wl values & associated element(s) name\n",
    "#what is verbose?(wordiness?) - if it is output is found line\n",
    "#how decided minpeakratio value-guess 10 is just a good low number but high enough to be above noise?\n",
    "#peak to base ratio to do s/n (sigma) clip"
   ]
  },
  {
   "cell_type": "code",
   "execution_count": null,
   "metadata": {
    "collapsed": true
   },
   "outputs": [],
   "source": []
  },
  {
   "cell_type": "code",
   "execution_count": null,
   "metadata": {},
   "outputs": [],
   "source": []
  },
  {
   "cell_type": "code",
   "execution_count": 71,
   "metadata": {},
   "outputs": [
    {
     "data": {
      "text/plain": [
       "[<matplotlib.lines.Line2D at 0x118723898>]"
      ]
     },
     "execution_count": 71,
     "metadata": {},
     "output_type": "execute_result"
    },
    {
     "data": {
      "image/png": "[encoded data removed]",
      "text/plain": [
       "<matplotlib.figure.Figure at 0x11622d2e8>"
      ]
     },
     "metadata": {},
     "output_type": "display_data"
    },
    {
     "data": {
      "image/png": "[encoded data removed]",
      "text/plain": [
       "<matplotlib.figure.Figure at 0x1165ff080>"
      ]
     },
     "metadata": {},
     "output_type": "display_data"
    }
   ],
   "source": [
    "#1st graph\n",
    "#need those guesses from guess_line_loc to run this\n",
    "#scatter plots mins & maxs of red dispersion solution\n",
    "rds.plot_solution(True) #plotsdres=true -- think that displays dashed line as standard residuals value \n",
    "plt.figure()\n",
    "\n",
    "#2nd graph \n",
    "#plots 1D spec as a fcn of wavelength(blue) & dispersion min/maxs as red lines\n",
    "rds.plot_spec_wl()"
   ]
  },
  {
   "cell_type": "markdown",
   "metadata": {},
   "source": [
    "### Collecting questions from this section\n",
    "#### why choose these particular wavelengths/ what emissions are those / how determined guess values in 'guess_line_loc'?\n"
   ]
  },
  {
   "cell_type": "markdown",
   "metadata": {},
   "source": [
    "## Red Dispersion (1.0\")\n"
   ]
  },
  {
   "cell_type": "code",
   "execution_count": null,
   "metadata": {
    "collapsed": true
   },
   "outputs": [],
   "source": []
  }
 ],
 "metadata": {
  "kernelspec": {
   "display_name": "Python 3",
   "language": "python",
   "name": "python3"
  },
  "language_info": {
   "codemirror_mode": {
    "name": "ipython",
    "version": 3
   },
   "file_extension": ".py",
   "mimetype": "text/x-python",
   "name": "python",
   "nbconvert_exporter": "python",
   "pygments_lexer": "ipython3",
   "version": "3.6.1"
  }
 },
 "nbformat": 4,
 "nbformat_minor": 2
}
