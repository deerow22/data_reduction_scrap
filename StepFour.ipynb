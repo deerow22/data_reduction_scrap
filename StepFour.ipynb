{
 "cells": [
  {
   "cell_type": "code",
   "execution_count": 35,
   "metadata": {},
   "outputs": [
    {
     "ename": "SyntaxError",
     "evalue": "invalid syntax (<ipython-input-35-ef7563023c7e>, line 13)",
     "output_type": "error",
     "traceback": [
      "\u001b[0;36m  File \u001b[0;32m\"<ipython-input-35-ef7563023c7e>\"\u001b[0;36m, line \u001b[0;32m13\u001b[0m\n\u001b[0;31m    import numpy.mask?? as ma\u001b[0m\n\u001b[0m                     ^\u001b[0m\n\u001b[0;31mSyntaxError\u001b[0m\u001b[0;31m:\u001b[0m invalid syntax\n"
     ]
    }
   ],
   "source": [
    "%matplotlib inline\n",
    "from matplotlib import pyplot as plt\n",
    "import numpy as np\n",
    "from astropy.utils.data import get_pkg_data_filename\n",
    "import subprocess as sp\n",
    "import glob\n",
    "import astropy.io.fits as pyfits\n",
    "from astropy.io import ascii\n",
    "import astropy.cosmology as cm\n",
    "from astropy import units as u\n",
    "import csv\n",
    "cosmo = cm.Planck15 \n",
    "import numpy.mask as ma\n"
   ]
  },
  {
   "cell_type": "code",
   "execution_count": null,
   "metadata": {
    "collapsed": true
   },
   "outputs": [],
   "source": []
  },
  {
   "cell_type": "markdown",
   "metadata": {},
   "source": [
    "# Getting remaining objects catalog"
   ]
  },
  {
   "cell_type": "code",
   "execution_count": 2,
   "metadata": {},
   "outputs": [
    {
     "name": "stdout",
     "output_type": "stream",
     "text": [
      "processing this image /data1/rowland/FINALimages/galstarsky_subtracted/modelsWOskyNstar_subtubtracted_elgordoF606W.fits\n",
      "/bin/sh: sex: command not found\n",
      "processing this image /data1/rowland/FINALimages/galstarsky_subtracted/modelsWOskyNstar_subtubtracted_elgordoF625W.fits\n",
      "/bin/sh: sex: command not found\n",
      "processing this image /data1/rowland/FINALimages/galstarsky_subtracted/modelsWOskyNstar_subtubtracted_elgordoF775W.fits\n",
      "/bin/sh: sex: command not found\n",
      "processing this image /data1/rowland/FINALimages/galstarsky_subtracted/modelsWOskyNstar_subtubtracted_elgordoF814W.fits\n",
      "/bin/sh: sex: command not found\n",
      "processing this image /data1/rowland/FINALimages/galstarsky_subtracted/modelsWOskyNstar_subtubtracted_elgordoF850LP.fits\n",
      "/bin/sh: sex: command not found\n",
      "processing this image /data1/rowland/FINALimages/galstarsky_subtracted/modelsWOskyNstar_subtubtracted_elgordoF105W.fits\n",
      "/bin/sh: sex: command not found\n",
      "processing this image /data1/rowland/FINALimages/galstarsky_subtracted/modelsWOskyNstar_subtubtracted_elgordoF125W.fits\n",
      "/bin/sh: sex: command not found\n",
      "processing this image /data1/rowland/FINALimages/galstarsky_subtracted/modelsWOskyNstar_subtubtracted_elgordoF140W.fits\n",
      "/bin/sh: sex: command not found\n",
      "processing this image /data1/rowland/FINALimages/galstarsky_subtracted/modelsWOskyNstar_subtubtracted_elgordoF160W.fits\n",
      "/bin/sh: sex: command not found\n",
      "processing this image /data1/rowland/FINALimages/galstarsky_subtracted/modelsWOskyNstar_subtubtracted_elgordoF435W.fits\n",
      "/bin/sh: sex: command not found\n"
     ]
    }
   ],
   "source": [
    "zeropoints = {\"F435W\":25.665,\"F606W\":26.493,\"F814W\":25.97,\"F105W\":26.2687,\"F125W\":26.2303,\"F140W\":24.4524,\\\n",
    "              \"F160W\":25.9463, \"F625W\":24.85714771, \"F775W\":25.66195995, \"F850LP\":25.89943399}\n",
    "\n",
    "\n",
    "elgordo_subtracted_files = {'F606W': '/data1/rowland/FINALimages/galstarsky_subtracted/modelsWOskyNstar_subtubtracted_elgordoF606W.fits', \\\n",
    "              'F625W': '/data1/rowland/FINALimages/galstarsky_subtracted/modelsWOskyNstar_subtubtracted_elgordoF625W.fits', \\\n",
    "              'F775W': '/data1/rowland/FINALimages/galstarsky_subtracted/modelsWOskyNstar_subtubtracted_elgordoF775W.fits', \\\n",
    "              'F814W': '/data1/rowland/FINALimages/galstarsky_subtracted/modelsWOskyNstar_subtubtracted_elgordoF814W.fits', \\\n",
    "              'F850LP': '/data1/rowland/FINALimages/galstarsky_subtracted/modelsWOskyNstar_subtubtracted_elgordoF850LP.fits',\\\n",
    "              'F105W': '/data1/rowland/FINALimages/galstarsky_subtracted/modelsWOskyNstar_subtubtracted_elgordoF105W.fits',\\\n",
    "              'F125W': '/data1/rowland/FINALimages/galstarsky_subtracted/modelsWOskyNstar_subtubtracted_elgordoF125W.fits',\\\n",
    "              'F140W': '/data1/rowland/FINALimages/galstarsky_subtracted/modelsWOskyNstar_subtubtracted_elgordoF140W.fits',\\\n",
    "              'F160W': '/data1/rowland/FINALimages/galstarsky_subtracted/modelsWOskyNstar_subtubtracted_elgordoF160W.fits',\n",
    "              'F435W': '/data1/rowland/FINALimages/galstarsky_subtracted/modelsWOskyNstar_subtubtracted_elgordoF435W.fits'}\n",
    "\n",
    "\n",
    "\n",
    "thresh_test = 2.0 #3.0\n",
    "\n",
    "for filter,image in elgordo_subtracted_files.items():\n",
    "    #if not filter == 'F125W':\n",
    "    #    continue\n",
    "    print('processing this image',image)\n",
    "    ! sex {image} -DETECT_THRESH {thresh_test} -CATALOG_NAME /data1/rowland/LensedCatalogs/remaining_objects_{filter}.cat -PARAMETERS_NAME default.param -PIXEL_SCALE 0.06 -MAG_ZEROPOINT {zeropoints[filter]} -ANALYSIS_THRESH {thresh_test} -DETECT_THRESH {thresh_test} -CHECKIMAGE_TYPE NONE\n"
   ]
  },
  {
   "cell_type": "code",
   "execution_count": null,
   "metadata": {
    "collapsed": true
   },
   "outputs": [],
   "source": []
  },
  {
   "cell_type": "code",
   "execution_count": null,
   "metadata": {
    "collapsed": true
   },
   "outputs": [],
   "source": []
  },
  {
   "cell_type": "code",
   "execution_count": 7,
   "metadata": {},
   "outputs": [
    {
     "data": {
      "text/html": [
       "<i>Table length=13607</i>\n",
       "<table id=\"table140088058460872\" class=\"table-striped table-bordered table-condensed\">\n",
       "<thead><tr><th>NUMBER</th><th>MAG_AUTO</th><th>MAGERR_AUTO</th><th>KRON_RADIUS</th><th>ISOAREA_IMAGE</th><th>XPEAK_IMAGE</th><th>YPEAK_IMAGE</th><th>X_IMAGE</th><th>Y_IMAGE</th><th>ALPHA_J2000</th><th>DELTA_J2000</th><th>A_IMAGE</th><th>THETA_IMAGE</th><th>MU_MAX</th><th>ELLIPTICITY</th><th>CLASS_STAR</th><th>FLUX_RADIUS</th></tr></thead>\n",
       "<thead><tr><th></th><th>mag</th><th>mag</th><th></th><th>pix2</th><th>pix</th><th>pix</th><th>pix</th><th>pix</th><th>deg</th><th>deg</th><th>pix</th><th>deg</th><th>mag / arcsec2</th><th></th><th></th><th>pix</th></tr></thead>\n",
       "<thead><tr><th>int64</th><th>float64</th><th>float64</th><th>float64</th><th>int64</th><th>int64</th><th>int64</th><th>float64</th><th>float64</th><th>float64</th><th>float64</th><th>float64</th><th>float64</th><th>float64</th><th>float64</th><th>float64</th><th>float64</th></tr></thead>\n",
       "<tr><td>1</td><td>18.2115</td><td>0.0003</td><td>3.5</td><td>10394</td><td>1667</td><td>842</td><td>1667.4456</td><td>842.0095</td><td>0.0</td><td>0.0</td><td>20.063</td><td>40.09</td><td>17.5056</td><td>0.514</td><td>0.976</td><td>10.425</td></tr>\n",
       "<tr><td>2</td><td>28.2163</td><td>0.2112</td><td>7.6</td><td>3</td><td>2069</td><td>169</td><td>2069.3186</td><td>168.6685</td><td>0.0</td><td>0.0</td><td>0.57</td><td>45.62</td><td>24.6394</td><td>0.408</td><td>0.359</td><td>1.491</td></tr>\n",
       "<tr><td>3</td><td>28.202</td><td>0.1966</td><td>6.69</td><td>4</td><td>2035</td><td>176</td><td>2035.0116</td><td>176.4919</td><td>0.0</td><td>0.0</td><td>0.793</td><td>-32.24</td><td>24.4826</td><td>0.603</td><td>0.367</td><td>1.404</td></tr>\n",
       "<tr><td>4</td><td>28.4223</td><td>0.2331</td><td>7.23</td><td>3</td><td>2112</td><td>184</td><td>2112.6499</td><td>184.3146</td><td>0.0</td><td>0.0</td><td>0.576</td><td>43.46</td><td>24.5109</td><td>0.421</td><td>0.351</td><td>1.292</td></tr>\n",
       "<tr><td>5</td><td>28.3267</td><td>0.1654</td><td>4.07</td><td>5</td><td>2093</td><td>193</td><td>2093.2249</td><td>192.4266</td><td>0.0</td><td>0.0</td><td>0.73</td><td>18.95</td><td>24.1843</td><td>0.371</td><td>0.435</td><td>1.138</td></tr>\n",
       "<tr><td>6</td><td>27.4044</td><td>0.108</td><td>3.5</td><td>15</td><td>2128</td><td>211</td><td>2126.7473</td><td>210.5854</td><td>0.0</td><td>0.0</td><td>1.224</td><td>-12.8</td><td>24.1666</td><td>0.248</td><td>0.347</td><td>1.901</td></tr>\n",
       "<tr><td>7</td><td>27.6278</td><td>0.1103</td><td>3.5</td><td>10</td><td>2087</td><td>198</td><td>2087.4797</td><td>198.5206</td><td>0.0</td><td>0.0</td><td>1.019</td><td>74.17</td><td>24.3573</td><td>0.287</td><td>0.384</td><td>1.671</td></tr>\n",
       "<tr><td>8</td><td>27.6704</td><td>0.0976</td><td>3.5</td><td>8</td><td>2110</td><td>196</td><td>2110.1135</td><td>196.1234</td><td>0.0</td><td>0.0</td><td>0.849</td><td>-41.92</td><td>23.9265</td><td>0.231</td><td>0.506</td><td>1.383</td></tr>\n",
       "<tr><td>9</td><td>27.6265</td><td>0.1341</td><td>3.79</td><td>11</td><td>2078</td><td>204</td><td>2077.8296</td><td>202.382</td><td>0.0</td><td>0.0</td><td>1.474</td><td>80.47</td><td>24.4349</td><td>0.549</td><td>0.349</td><td>1.924</td></tr>\n",
       "<tr><td>...</td><td>...</td><td>...</td><td>...</td><td>...</td><td>...</td><td>...</td><td>...</td><td>...</td><td>...</td><td>...</td><td>...</td><td>...</td><td>...</td><td>...</td><td>...</td><td>...</td></tr>\n",
       "<tr><td>13598</td><td>28.0311</td><td>0.1806</td><td>5.74</td><td>5</td><td>2435</td><td>4267</td><td>2434.9646</td><td>4267.019</td><td>0.0</td><td>0.0</td><td>0.615</td><td>21.24</td><td>24.2769</td><td>0.003</td><td>0.359</td><td>1.442</td></tr>\n",
       "<tr><td>13599</td><td>27.0674</td><td>0.1327</td><td>6.45</td><td>13</td><td>2380</td><td>4443</td><td>2380.144</td><td>4442.2725</td><td>0.0</td><td>0.0</td><td>1.301</td><td>-79.65</td><td>24.0535</td><td>0.458</td><td>0.354</td><td>2.413</td></tr>\n",
       "<tr><td>13600</td><td>27.9154</td><td>0.1709</td><td>6.38</td><td>5</td><td>3285</td><td>3837</td><td>3285.2173</td><td>3837.3809</td><td>0.0</td><td>0.0</td><td>0.762</td><td>18.21</td><td>24.4302</td><td>0.416</td><td>0.377</td><td>1.575</td></tr>\n",
       "<tr><td>13601</td><td>27.6189</td><td>0.1699</td><td>7.38</td><td>6</td><td>2490</td><td>4291</td><td>2489.512</td><td>4291.478</td><td>0.0</td><td>0.0</td><td>0.968</td><td>-71.09</td><td>24.3126</td><td>0.575</td><td>0.35</td><td>1.946</td></tr>\n",
       "<tr><td>13602</td><td>25.1558</td><td>0.0399</td><td>5.1</td><td>65</td><td>2383</td><td>4275</td><td>2382.9055</td><td>4276.0659</td><td>0.0</td><td>0.0</td><td>2.161</td><td>47.89</td><td>22.7694</td><td>0.054</td><td>0.635</td><td>2.999</td></tr>\n",
       "<tr><td>13603</td><td>27.8165</td><td>0.1218</td><td>3.5</td><td>9</td><td>2593</td><td>4486</td><td>2592.5449</td><td>4486.1216</td><td>0.0</td><td>0.0</td><td>1.135</td><td>-26.84</td><td>24.499</td><td>0.49</td><td>0.353</td><td>1.727</td></tr>\n",
       "<tr><td>13604</td><td>27.5011</td><td>0.1152</td><td>3.91</td><td>11</td><td>2462</td><td>3976</td><td>2461.7065</td><td>3976.1914</td><td>0.0</td><td>0.0</td><td>1.16</td><td>-38.99</td><td>23.973</td><td>0.387</td><td>0.372</td><td>1.673</td></tr>\n",
       "<tr><td>13605</td><td>27.8691</td><td>0.1304</td><td>3.5</td><td>8</td><td>3382</td><td>3939</td><td>3382.0164</td><td>3938.4958</td><td>0.0</td><td>0.0</td><td>0.81</td><td>-88.83</td><td>24.1861</td><td>0.142</td><td>0.354</td><td>1.377</td></tr>\n",
       "<tr><td>13606</td><td>27.2247</td><td>0.1454</td><td>6.79</td><td>10</td><td>3110</td><td>3831</td><td>3109.4963</td><td>3831.2249</td><td>0.0</td><td>0.0</td><td>0.988</td><td>-0.6</td><td>24.4551</td><td>0.265</td><td>0.35</td><td>2.45</td></tr>\n",
       "<tr><td>13607</td><td>27.8117</td><td>0.191</td><td>7.47</td><td>5</td><td>2545</td><td>3852</td><td>2544.7966</td><td>3852.4141</td><td>0.0</td><td>0.0</td><td>0.764</td><td>-20.32</td><td>24.5852</td><td>0.421</td><td>0.348</td><td>1.841</td></tr>\n",
       "</table>"
      ],
      "text/plain": [
       "<Table length=13607>\n",
       "NUMBER MAG_AUTO MAGERR_AUTO KRON_RADIUS ... ELLIPTICITY CLASS_STAR FLUX_RADIUS\n",
       "         mag        mag                 ...                            pix    \n",
       "int64  float64    float64     float64   ...   float64    float64     float64  \n",
       "------ -------- ----------- ----------- ... ----------- ---------- -----------\n",
       "     1  18.2115      0.0003         3.5 ...       0.514      0.976      10.425\n",
       "     2  28.2163      0.2112         7.6 ...       0.408      0.359       1.491\n",
       "     3   28.202      0.1966        6.69 ...       0.603      0.367       1.404\n",
       "     4  28.4223      0.2331        7.23 ...       0.421      0.351       1.292\n",
       "     5  28.3267      0.1654        4.07 ...       0.371      0.435       1.138\n",
       "     6  27.4044       0.108         3.5 ...       0.248      0.347       1.901\n",
       "     7  27.6278      0.1103         3.5 ...       0.287      0.384       1.671\n",
       "     8  27.6704      0.0976         3.5 ...       0.231      0.506       1.383\n",
       "     9  27.6265      0.1341        3.79 ...       0.549      0.349       1.924\n",
       "   ...      ...         ...         ... ...         ...        ...         ...\n",
       " 13598  28.0311      0.1806        5.74 ...       0.003      0.359       1.442\n",
       " 13599  27.0674      0.1327        6.45 ...       0.458      0.354       2.413\n",
       " 13600  27.9154      0.1709        6.38 ...       0.416      0.377       1.575\n",
       " 13601  27.6189      0.1699        7.38 ...       0.575       0.35       1.946\n",
       " 13602  25.1558      0.0399         5.1 ...       0.054      0.635       2.999\n",
       " 13603  27.8165      0.1218         3.5 ...        0.49      0.353       1.727\n",
       " 13604  27.5011      0.1152        3.91 ...       0.387      0.372       1.673\n",
       " 13605  27.8691      0.1304         3.5 ...       0.142      0.354       1.377\n",
       " 13606  27.2247      0.1454        6.79 ...       0.265       0.35        2.45\n",
       " 13607  27.8117       0.191        7.47 ...       0.421      0.348       1.841"
      ]
     },
     "execution_count": 7,
     "metadata": {},
     "output_type": "execute_result"
    }
   ],
   "source": [
    "#('/data1/rowland/FINALimages/galstarsky_subtracted/modelsWOskyNstar_subtubtracted_elgordo{}.fits').format(filter)\n",
    "\n",
    "\n",
    "testdata = ascii.read('/data/rowland/LensedCatalogs/remaining_objects_F105W.cat')\n",
    "testdata"
   ]
  },
  {
   "cell_type": "markdown",
   "metadata": {},
   "source": [
    "# Studying Cluster galaxies"
   ]
  },
  {
   "cell_type": "markdown",
   "metadata": {},
   "source": [
    "### converting pix to radius (kpc) for study\n"
   ]
  },
  {
   "cell_type": "markdown",
   "metadata": {},
   "source": [
    "###### getting best outputs first, then pulling radius"
   ]
  },
  {
   "cell_type": "code",
   "execution_count": 11,
   "metadata": {},
   "outputs": [],
   "source": [
    "#use radius from best output\n",
    "masterdata_wkabooms = ascii.read('/Volumes/PURPLEDRIVE/mastertable_wkabooms') #on laptop\n",
    "#masterdata_wkabooms\n",
    "masterdata = ascii.read('/Volumes/PURPLEDRIVE/mastertable')\n",
    "#masterdata"
   ]
  },
  {
   "cell_type": "code",
   "execution_count": 5,
   "metadata": {
    "collapsed": true
   },
   "outputs": [],
   "source": [
    "#matching outputs from firstrun & rerun via index for ALL FILTERS (cycle)\n",
    "\n",
    "\n",
    "tfilters = [\"F105\",\"F125\",\"F140\",\"F160\",\"F435\",\"F606\",\"F625\",\"F775\",\"F814\",\"F850\"]\n",
    "filters = [\"F105W\",\"F125W\",\"F140W\",\"F160W\",\"F435W\",\"F606W\",\"F625W\",\"F775W\",\"F814W\",\"F850LP\"]\n",
    "\n",
    "\n",
    "allreruns = []\n",
    "for tfilter in tfilters:\n",
    "    total=[]\n",
    "    reruns =[]\n",
    "    s=0\n",
    "    #print('using this now',tfilter)\n",
    "    for value in masterdata_wkabooms['{}_kabooms'.format(tfilter)]:\n",
    "        #print('using this now',tfilter)\n",
    "\n",
    "        if value == 0.0 or value==1.0:\n",
    "            total.append(value) #total number of galfit runs\n",
    "            s+=1\n",
    "    #print('total',np.shape(total))\n",
    "    for count,val in enumerate(total):\n",
    "        #print(val)\n",
    "        if val == 1.0: #kabooms\n",
    "            count=count\n",
    "            #print('chose this count',count,val)\n",
    "            reruns.append(count)\n",
    "        else:\n",
    "            count=-99\n",
    "            #print('chose that',count,val)\n",
    "            reruns.append(count)\n",
    "    allreruns.append(reruns)\n",
    "            #print('starting new cycle')\n",
    "    #break\n",
    "\n",
    "allnewreruns=[]\n",
    "for k in range(len(tfilters)):\n",
    "    a=-1\n",
    "    newreruns=[]\n",
    "    for j in allreruns[k]:\n",
    "        if j!= -99:\n",
    "            a+=1\n",
    "            j=a\n",
    "            newreruns.append(j)\n",
    "        else:\n",
    "            j=j\n",
    "            newreruns.append(j)\n",
    "    allnewreruns.append(newreruns)\n",
    "#print(np.shape(allnewreruns),np.shape(allnewreruns[4]),allreruns[4])#enumerate this to get matches btwn firstrun & rerun"
   ]
  },
  {
   "cell_type": "code",
   "execution_count": 6,
   "metadata": {
    "collapsed": true
   },
   "outputs": [],
   "source": [
    "filters = [\"F105W\",\"F125W\",\"F140W\",\"F160W\",\"F435W\",\"F606W\",\"F625W\",\"F775W\",\"F814W\",\"F850LP\"]\n",
    "\n",
    "allbestoutputs={} #[]\n",
    "for h,filter in enumerate(filters):\n",
    "    bestoutputs = []\n",
    "    for count,file in enumerate(allnewreruns[h]):\n",
    "        #print(filter)\n",
    "        if file == -99:\n",
    "            best = '/Volumes/PURPLEDRIVE/{}/Outputs/output{}.fits'.format(filter,count)\n",
    "            bestoutputs.append(best)\n",
    "            #print(count,file)\n",
    "        else: \n",
    "            best = '/Volumes/PURPLEDRIVE/{}/Outputs/KaboomRerun/output{}_2ndrun.fits'.format(filter,file)\n",
    "            bestoutputs.append(best)\n",
    "        allbestoutputs[filter]= bestoutputs"
   ]
  },
  {
   "cell_type": "markdown",
   "metadata": {},
   "source": [
    "###### pulling radius"
   ]
  },
  {
   "cell_type": "code",
   "execution_count": 18,
   "metadata": {},
   "outputs": [
    {
     "name": "stdout",
     "output_type": "stream",
     "text": [
      "bad fit for: *2.065e-03*  F435W /Volumes/PURPLEDRIVE/F435W/Outputs/KaboomRerun/output2_2ndrun.fits\n",
      "bad fit for: *0.0169*  F606W /Volumes/PURPLEDRIVE/F606W/Outputs/KaboomRerun/output4_2ndrun.fits\n",
      "bad fit for: *1.000e-02*  F625W /Volumes/PURPLEDRIVE/F625W/Outputs/KaboomRerun/output22_2ndrun.fits\n",
      "bad fit for: *0.1471*  F775W /Volumes/PURPLEDRIVE/F775W/Outputs/KaboomRerun/output2_2ndrun.fits\n",
      "53\n",
      "53\n",
      "53\n",
      "53\n",
      "8\n",
      "84\n",
      "75\n",
      "76\n",
      "53\n",
      "75\n"
     ]
    }
   ],
   "source": [
    "modelrads = {}\n",
    "for filter in filters:\n",
    "    outputlist = allbestoutputs[filter]\n",
    "    modelrads[filter]=np.zeros_like(outputlist)\n",
    "    rads=[]\n",
    "    for file in outputlist:\n",
    "        header=pyfits.open(file)[2].header\n",
    "        radius = header['1_RE'].split('+')[0]\n",
    "        if '*' == radius[0]:\n",
    "            print('bad fit for:',radius,filter,file)\n",
    "            radius = 0\n",
    "        else:\n",
    "            radius = radius\n",
    "        rads.append(float(radius))\n",
    "    modelrads[filter] = rads\n",
    "for filter in filters:\n",
    "    print(len(modelrads[filter]))\n"
   ]
  },
  {
   "cell_type": "markdown",
   "metadata": {},
   "source": [
    "###### need to match bestoutput (masked array) with its z "
   ]
  },
  {
   "cell_type": "code",
   "execution_count": 64,
   "metadata": {},
   "outputs": [],
   "source": [
    "\n",
    "\n",
    "tfilters = [\"F105\",\"F125\",\"F140\",\"F160\",\"F435\",\"F606\",\"F625\",\"F775\",\"F814\",\"F850\"]\n",
    "filters = [\"F105W\",\"F125W\",\"F140W\",\"F160W\",\"F435W\",\"F606W\",\"F625W\",\"F775W\",\"F814W\",\"F850LP\"]\n",
    "\n",
    "total={}\n",
    "allreruns = []\n",
    "for tfilter in tfilters:\n",
    "    reruns =[]\n",
    "    s=0\n",
    "    #print('using this now',tfilter)\n",
    "    for count,value in enumerate(masterdata_wkabooms['{}_kabooms'.format(tfilter)]):\n",
    "        #print('using this now',tfilter)\n",
    "        #print(value,filter)\n",
    "        total[tfilter]=np.zeros_like(masterdata_wkabooms['{}_kabooms'.format(tfilter)])\n",
    "        if value == 0.0 or value==1.0:\n",
    "            #total.append(value) #total number of galfit runs\n",
    "            s+=1\n",
    "            count=count\n",
    "            reruns.append(count)\n",
    "            #total[filter] += reruns\n",
    "        else:\n",
    "            count=-99\n",
    "            reruns.append(count)\n",
    "    total[tfilter] +=reruns\n",
    "    #print('total',np.shape(total))\n",
    "#     for count,val in enumerate(total):\n",
    "#         #print(val)\n",
    "#         if val == 1.0: #kabooms\n",
    "#             count=count\n",
    "#             #print('chose this count',count,val)\n",
    "#             reruns.append(count)\n",
    "#         else:\n",
    "#             count=-99\n",
    "#             #print('chose that',count,val)\n",
    "#             reruns.append(count)\n",
    "    allreruns.append(reruns)"
   ]
  },
  {
   "cell_type": "code",
   "execution_count": 59,
   "metadata": {},
   "outputs": [
    {
     "name": "stdout",
     "output_type": "stream",
     "text": [
      "(89,)\n",
      "(89,)\n",
      "(89,)\n",
      "(89,)\n",
      "(89,)\n",
      "(89,)\n",
      "(89,)\n",
      "(89,)\n",
      "(89,)\n",
      "(89,)\n"
     ]
    }
   ],
   "source": [
    "for tfilter in tfilters:\n",
    "    print(np.shape(total[tfilter]))\n",
    "# for count,arr in enumerate(allreruns):\n",
    "#     print(count,np.shape(arr))"
   ]
  },
  {
   "cell_type": "code",
   "execution_count": 66,
   "metadata": {},
   "outputs": [
    {
     "name": "stdout",
     "output_type": "stream",
     "text": [
      "F105_kabooms\n",
      "------------\n",
      "         0.0\n",
      "         1.0\n",
      "         2.0\n",
      "         3.0\n",
      "         4.0\n",
      "       -99.0\n",
      "         6.0\n",
      "         7.0\n",
      "         8.0\n",
      "         9.0\n",
      "         ...\n",
      "       -99.0\n",
      "        79.0\n",
      "       -99.0\n",
      "       -99.0\n",
      "       -99.0\n",
      "       -99.0\n",
      "       -99.0\n",
      "       -99.0\n",
      "       -99.0\n",
      "       -99.0\n",
      "       -99.0\n",
      "Length = 89 rows\n"
     ]
    }
   ],
   "source": [
    "print(total['F105'])"
   ]
  },
  {
   "cell_type": "code",
   "execution_count": 61,
   "metadata": {
    "collapsed": true
   },
   "outputs": [],
   "source": [
    "#getting redshift values\n",
    "redshift=[]\n",
    "for z in masterdata['z']:\n",
    "    zs = cosmo.kpc_proper_per_arcmin(z).to('kpc/arcsec') #* (60*u.arcmin)\n",
    "    redshift.append(zs.value)"
   ]
  },
  {
   "cell_type": "code",
   "execution_count": null,
   "metadata": {},
   "outputs": [],
   "source": []
  },
  {
   "cell_type": "code",
   "execution_count": 76,
   "metadata": {},
   "outputs": [
    {
     "name": "stdout",
     "output_type": "stream",
     "text": [
      "{'F105W': <MaskedColumn name='F105_kabooms' dtype='float64' length=89>\n",
      "14.8283\n",
      "    1.0\n",
      " 2.9785\n",
      " 2.3478\n",
      "15.8664\n",
      "  -99.0\n",
      "    1.0\n",
      "  4.652\n",
      "  3.518\n",
      " 4.9736\n",
      " 2.6632\n",
      " 3.4515\n",
      "    ...\n",
      "  -99.0\n",
      "  -99.0\n",
      " 7.6487\n",
      "  -99.0\n",
      "  -99.0\n",
      "  -99.0\n",
      "  -99.0\n",
      "  -99.0\n",
      "  -99.0\n",
      "  -99.0\n",
      "  -99.0\n",
      "  -99.0, 'F125W': <MaskedColumn name='F125_kabooms' dtype='float64' length=89>\n",
      "16.7418\n",
      " 4.9245\n",
      " 3.4098\n",
      " 3.2248\n",
      "41.2698\n",
      "  -99.0\n",
      " 2.2129\n",
      "18.6012\n",
      " 4.7468\n",
      " 4.4513\n",
      " 4.0164\n",
      " 3.0843\n",
      "    ...\n",
      "  -99.0\n",
      "  -99.0\n",
      " 3.3892\n",
      "  -99.0\n",
      "  -99.0\n",
      "  -99.0\n",
      "  -99.0\n",
      "  -99.0\n",
      "  -99.0\n",
      "  -99.0\n",
      "  -99.0\n",
      "  -99.0, 'F140W': <MaskedColumn name='F140_kabooms' dtype='float64' length=89>\n",
      "17.6904\n",
      " 2.9774\n",
      " 3.6754\n",
      " 3.1721\n",
      "49.1741\n",
      "  -99.0\n",
      " 3.4905\n",
      " 5.2486\n",
      " 4.7343\n",
      " 4.5618\n",
      "  4.926\n",
      "  2.989\n",
      "    ...\n",
      "  -99.0\n",
      "  -99.0\n",
      "23.8212\n",
      "  -99.0\n",
      "  -99.0\n",
      "  -99.0\n",
      "  -99.0\n",
      "  -99.0\n",
      "  -99.0\n",
      "  -99.0\n",
      "  -99.0\n",
      "  -99.0, 'F160W': <MaskedColumn name='F160_kabooms' dtype='float64' length=89>\n",
      "17.2324\n",
      " 2.0878\n",
      " 4.1195\n",
      " 2.9324\n",
      "61.9316\n",
      "  -99.0\n",
      " 2.8274\n",
      " 4.7252\n",
      " 3.9062\n",
      "   4.16\n",
      " 4.0275\n",
      " 2.7778\n",
      "    ...\n",
      "  -99.0\n",
      "  -99.0\n",
      "12.2716\n",
      "  -99.0\n",
      "  -99.0\n",
      "  -99.0\n",
      "  -99.0\n",
      "  -99.0\n",
      "  -99.0\n",
      "  -99.0\n",
      "  -99.0\n",
      "  -99.0, 'F435W': <MaskedColumn name='F435_kabooms' dtype='float64' length=89>\n",
      "7.7519\n",
      " -99.0\n",
      " -99.0\n",
      "   1.0\n",
      " -99.0\n",
      " -99.0\n",
      " -99.0\n",
      " -99.0\n",
      " -99.0\n",
      " -99.0\n",
      "   0.0\n",
      " -99.0\n",
      "   ...\n",
      " -99.0\n",
      " -99.0\n",
      " -99.0\n",
      " -99.0\n",
      " -99.0\n",
      " -99.0\n",
      " -99.0\n",
      " -99.0\n",
      " -99.0\n",
      " -99.0\n",
      " -99.0\n",
      " -99.0, 'F606W': <MaskedColumn name='F606_kabooms' dtype='float64' length=89>\n",
      "23.2854\n",
      " 2.0567\n",
      " 2.2395\n",
      "    1.0\n",
      " 6.8646\n",
      "  -99.0\n",
      " 1.8392\n",
      " 2.4261\n",
      " 2.9748\n",
      " 5.4796\n",
      "  3.037\n",
      "  2.514\n",
      "    ...\n",
      " 9.7237\n",
      "  -99.0\n",
      " 3.8817\n",
      " 1.7757\n",
      "  -99.0\n",
      " 8.3522\n",
      " 4.1504\n",
      " 4.2833\n",
      "  -99.0\n",
      " 1.4358\n",
      " 5.3537\n",
      "10.9312, 'F625W': <MaskedColumn name='F625_kabooms' dtype='float64' length=89>\n",
      "26.9262\n",
      " 1.7799\n",
      " 3.2042\n",
      " 1.5255\n",
      "15.5496\n",
      "  -99.0\n",
      " 2.2546\n",
      " 3.7006\n",
      " 2.9127\n",
      " 4.0991\n",
      " 2.9017\n",
      "  3.161\n",
      "    ...\n",
      " 3.8843\n",
      "  -99.0\n",
      " 3.5467\n",
      "    0.0\n",
      " 9.7169\n",
      "  -99.0\n",
      " 4.3118\n",
      " 2.0142\n",
      "  -99.0\n",
      "  -99.0\n",
      "  -99.0\n",
      " 7.8735, 'F775W': <MaskedColumn name='F775_kabooms' dtype='float64' length=89>\n",
      "13.7381\n",
      " 2.3761\n",
      " 2.7763\n",
      " 2.0599\n",
      "10.3829\n",
      "    0.0\n",
      " 2.9056\n",
      " 9.2266\n",
      "  3.053\n",
      " 4.5858\n",
      " 3.5574\n",
      " 4.0645\n",
      "    ...\n",
      "   4.56\n",
      "  -99.0\n",
      " 4.1914\n",
      " 2.1481\n",
      " 5.4084\n",
      "  -99.0\n",
      " 4.9341\n",
      " 0.6821\n",
      "  -99.0\n",
      "  -99.0\n",
      "  -99.0\n",
      "11.2138, 'F814W': <MaskedColumn name='F814_kabooms' dtype='float64' length=89>\n",
      "10.2168\n",
      "    1.0\n",
      "    1.0\n",
      "    1.0\n",
      " 8.9217\n",
      "  -99.0\n",
      " 1.3146\n",
      "  -99.0\n",
      " 1.0281\n",
      "    1.0\n",
      " 3.1556\n",
      " 1.0055\n",
      "    ...\n",
      "  -99.0\n",
      "  -99.0\n",
      "  3.592\n",
      "  -99.0\n",
      "  -99.0\n",
      "  -99.0\n",
      "  -99.0\n",
      "    1.0\n",
      "  -99.0\n",
      "  -99.0\n",
      "  -99.0\n",
      "  -99.0, 'F850LP': <MaskedColumn name='F850_kabooms' dtype='float64' length=89>\n",
      "13.681\n",
      "2.2088\n",
      "2.0736\n",
      "2.6781\n",
      "9.8451\n",
      " -99.0\n",
      "1.9683\n",
      "6.8109\n",
      "2.1325\n",
      "4.2779\n",
      "3.9476\n",
      "2.7906\n",
      "   ...\n",
      "4.3771\n",
      " -99.0\n",
      "2.9593\n",
      "2.6655\n",
      "4.4707\n",
      " -99.0\n",
      "5.0356\n",
      "2.5323\n",
      " -99.0\n",
      " -99.0\n",
      " -99.0\n",
      " 6.585}\n"
     ]
    }
   ],
   "source": [
    "#still matching detection to z\n",
    "\n",
    "distance_kpc ={}\n",
    "rads={}\n",
    "for tfilter in tfilters:\n",
    "    count=0\n",
    "    if tfilter is not 'F850':\n",
    "        filter = tfilter + 'W'\n",
    "    else:\n",
    "        filter = tfilter + 'LP'\n",
    "    mask = total[tfilter]\n",
    "    radius = modelrads[filter]\n",
    "    rads_pix=[]\n",
    "    radii=[]\n",
    "    rads[filter]=np.zeros_like(mask)\n",
    "    #print(tfilter)\n",
    "    for val in mask:\n",
    "        if val != -99.0:\n",
    "            #print(count,val)\n",
    "            rad = radius[count]\n",
    "            count+=1\n",
    "            \n",
    "        else:\n",
    "            rad = -99\n",
    "        radii.append(rad)\n",
    "    rads[filter] +=radii\n",
    "\n",
    "print(rads)    \n",
    "        \n",
    "      "
   ]
  },
  {
   "cell_type": "code",
   "execution_count": null,
   "metadata": {},
   "outputs": [],
   "source": []
  },
  {
   "cell_type": "code",
   "execution_count": null,
   "metadata": {
    "collapsed": true
   },
   "outputs": [],
   "source": []
  },
  {
   "cell_type": "code",
   "execution_count": null,
   "metadata": {
    "collapsed": true
   },
   "outputs": [],
   "source": []
  },
  {
   "cell_type": "code",
   "execution_count": null,
   "metadata": {
    "collapsed": true
   },
   "outputs": [],
   "source": []
  },
  {
   "cell_type": "markdown",
   "metadata": {},
   "source": [
    "###### doing conversions with new 'best' radii"
   ]
  },
  {
   "cell_type": "markdown",
   "metadata": {
    "collapsed": true
   },
   "source": [
    "# left off here, have zmatched masked array of radii now so need to do the math with those two to get distance conversion"
   ]
  },
  {
   "cell_type": "code",
   "execution_count": null,
   "metadata": {
    "collapsed": true
   },
   "outputs": [],
   "source": [
    "tfilters = ['F105','F125','F140','F160','F435','F606','F625','F775','F814','F850','F435'] \n",
    "\n",
    "rads = {}\n",
    "distance_kpc = {}\n",
    "\n",
    "for filter in tfilters:\n",
    "    rads[filter] = np.zeros((1,89))\n",
    "    distance_kpc[filter] = np.zeros((1,89))\n",
    "\n",
    "    pixscale = 0.06\n",
    "    factor = np.pi/(180 * 3600)\n",
    "    rads_pix=[]\n",
    "    dist=[]\n",
    "\n",
    "        distance = cosmo.kpc_proper_per_arcmin(z) * (60*u.arcmin)\n",
    "        dist.append(float(distance.value))\n",
    "    distance_kpc[filter] += dist\n",
    "    rads[filter] += rads_pix\n",
    "    \n",
    "for filter in tfilters:\n",
    "    rads = modelrads[filter]\n",
    "    z = zs\n",
    "    "
   ]
  },
  {
   "cell_type": "code",
   "execution_count": null,
   "metadata": {
    "collapsed": true
   },
   "outputs": [],
   "source": [
    "rads_kpc={}\n",
    "for filter in tfilters:\n",
    "    pixscale = 0.06 \n",
    "    factor = np.pi/(180 * 3600)\n",
    "    rads_kpc[filter] = np.zeros((1,89))\n",
    "    for val in range(89):\n",
    "        radius_kpc = rads[filter] * pixscale * distance_kpc[filter][0][val] * factor\n",
    "    rads_kpc[filter] +=radius_kpc"
   ]
  },
  {
   "cell_type": "code",
   "execution_count": null,
   "metadata": {
    "collapsed": true
   },
   "outputs": [],
   "source": []
  },
  {
   "cell_type": "code",
   "execution_count": null,
   "metadata": {
    "collapsed": true
   },
   "outputs": [],
   "source": []
  },
  {
   "cell_type": "code",
   "execution_count": null,
   "metadata": {
    "collapsed": true
   },
   "outputs": [],
   "source": []
  },
  {
   "cell_type": "markdown",
   "metadata": {},
   "source": [
    "# old attempt"
   ]
  },
  {
   "cell_type": "code",
   "execution_count": 1,
   "metadata": {
    "collapsed": true
   },
   "outputs": [],
   "source": [
    "# DONT USE RADIUS FROM HERE\n",
    "# masterdata = ascii.read('/run/media/rowland/PURPLEDRIVE/mastertable')\n",
    "# masterdata_wkabooms = ascii.read('/run/media/rowland/PURPLEDRIVE/mastertable_wkabooms')\n",
    "\n",
    "# masterdata_wkabooms"
   ]
  },
  {
   "cell_type": "code",
   "execution_count": 5,
   "metadata": {},
   "outputs": [
    {
     "data": {
      "text/latex": [
       "$7.932537 \\; \\mathrm{\\frac{kpc}{{}^{\\prime}}}$"
      ],
      "text/plain": [
       "<Quantity 7.932537 kpc / arcmin>"
      ]
     },
     "execution_count": 5,
     "metadata": {},
     "output_type": "execute_result"
    }
   ],
   "source": [
    "cosmo = cm.Planck15 \n",
    "cosmo.kpc_proper_per_arcmin(0.87)/60 #kpc/arcmin"
   ]
  },
  {
   "cell_type": "code",
   "execution_count": 125,
   "metadata": {},
   "outputs": [
    {
     "name": "stdout",
     "output_type": "stream",
     "text": [
      "7.932918470472427 kpc / arcsec\n",
      "7.929534904863792 kpc / arcsec\n",
      "7.94081624359278 kpc / arcsec\n",
      "7.943030956841581 kpc / arcsec\n",
      "7.945240946643955 kpc / arcsec\n",
      "7.918186606540252 kpc / arcsec\n",
      "7.917163988879457 kpc / arcsec\n",
      "7.949861224950226 kpc / arcsec\n",
      "7.9544341457306045 kpc / arcsec\n",
      "7.956300223064183 kpc / arcsec\n",
      "7.905095571082911 kpc / arcsec\n",
      "7.960791431155973 kpc / arcsec\n",
      "7.896871126069999 kpc / arcsec\n",
      "7.892098984737138 kpc / arcsec\n",
      "7.972470463651165 kpc / arcsec\n",
      "7.935693566580793 kpc / arcsec\n",
      "7.935720737003527 kpc / arcsec\n",
      "7.940978456117377 kpc / arcsec\n",
      "7.941032521330279 kpc / arcsec\n",
      "7.9411406433138305 kpc / arcsec\n",
      "7.9452140239677265 kpc / arcsec\n",
      "7.94556396406081 kpc / arcsec\n",
      "7.917136336961474 kpc / arcsec\n",
      "7.948600763000842 kpc / arcsec\n",
      "7.9487885892750265 kpc / arcsec\n",
      "7.912452863936331 kpc / arcsec\n",
      "7.956220318249429 kpc / arcsec\n",
      "7.906241476857006 kpc / arcsec\n",
      "7.901678615336057 kpc / arcsec\n",
      "7.888697840506929 kpc / arcsec\n",
      "7.933490415283195 kpc / arcsec\n",
      "7.934062048081393 kpc / arcsec\n",
      "7.935150009773649 kpc / arcsec\n",
      "7.93585657852248 kpc / arcsec\n",
      "7.9274830997910195 kpc / arcsec\n",
      "7.936969813133857 kpc / arcsec\n",
      "7.924933309000437 kpc / arcsec\n",
      "7.939138563659229 kpc / arcsec\n",
      "7.939463487157967 kpc / arcsec\n",
      "7.944271288365023 kpc / arcsec\n",
      "7.91395158613337 kpc / arcsec\n",
      "7.913868378722221 kpc / arcsec\n",
      "7.953232722836281 kpc / arcsec\n",
      "7.909755450668682 kpc / arcsec\n",
      "7.9540872129232625 kpc / arcsec\n",
      "7.901566401634367 kpc / arcsec\n",
      "7.89765977033873 kpc / arcsec\n",
      "7.89532034422939 kpc / arcsec\n",
      "7.890683119019129 kpc / arcsec\n",
      "7.985050468464693 kpc / arcsec\n",
      "7.986085154553066 kpc / arcsec\n",
      "7.935720737003527 kpc / arcsec\n",
      "7.926880478947354 kpc / arcsec\n",
      "7.926825678172693 kpc / arcsec\n",
      "7.93854260706579 kpc / arcsec\n",
      "7.923120044753523 kpc / arcsec\n",
      "7.943920910491527 kpc / arcsec\n",
      "7.91719164008133 kpc / arcsec\n",
      "7.946720614216848 kpc / arcsec\n",
      "7.950209590741512 kpc / arcsec\n",
      "7.950531054361323 kpc / arcsec\n",
      "7.9092541549421735 kpc / arcsec\n",
      "7.906185607174957 kpc / arcsec\n",
      "7.904368269931696 kpc / arcsec\n",
      "7.963994865794319 kpc / arcsec\n",
      "7.966766501615723 kpc / arcsec\n",
      "7.889038428234368 kpc / arcsec\n",
      "7.931828188142134 kpc / arcsec\n",
      "7.931664548057512 kpc / arcsec\n",
      "7.930900557045223 kpc / arcsec\n",
      "7.9300540615715756 kpc / arcsec\n",
      "7.9292615616059345 kpc / arcsec\n",
      "7.9258662041244285 kpc / arcsec\n",
      "7.940464696218526 kpc / arcsec\n",
      "7.923092547178579 kpc / arcsec\n",
      "7.9469356620024385 kpc / arcsec\n",
      "7.9470162933648405 kpc / arcsec\n",
      "7.916500145167242 kpc / arcsec\n",
      "7.916444806232651 kpc / arcsec\n",
      "7.914450694949343 kpc / arcsec\n",
      "7.949378677326042 kpc / arcsec\n",
      "7.950209590741512 kpc / arcsec\n",
      "7.9103678286500445 kpc / arcsec\n",
      "7.909699762665223 kpc / arcsec\n",
      "7.9094212794432766 kpc / arcsec\n",
      "7.9565931538375 kpc / arcsec\n",
      "7.957258592737893 kpc / arcsec\n",
      "7.961957489250003 kpc / arcsec\n",
      "7.967003716244916 kpc / arcsec\n"
     ]
    }
   ],
   "source": [
    "for z in masterdata['z']:\n",
    "    zs = cosmo.kpc_proper_per_arcmin(z).to('kpc/arcsec') #* (60*u.arcmin)\n",
    "    print(zs)"
   ]
  },
  {
   "cell_type": "code",
   "execution_count": null,
   "metadata": {
    "collapsed": true
   },
   "outputs": [],
   "source": []
  },
  {
   "cell_type": "code",
   "execution_count": 113,
   "metadata": {},
   "outputs": [
    {
     "name": "stderr",
     "output_type": "stream",
     "text": [
      "/software/local/lib64/python3.7/site-packages/ipykernel_launcher.py:25: UserWarning: Warning: converting a masked element to nan.\n"
     ]
    }
   ],
   "source": [
    "tfilters = ['F105','F125','F140','F160','F435','F606','F625','F775','F814','F850','F435'] \n",
    "\n",
    "rads = {}\n",
    "distance_kpc = {}\n",
    "\n",
    "for filter in tfilters:\n",
    "    rads[filter] = np.zeros((1,89))\n",
    "    distance_kpc[filter] = np.zeros((1,89))\n",
    "\n",
    "    pixscale = 0.06\n",
    "    factor = np.pi/(180 * 3600)\n",
    "    rads_pix=[]\n",
    "    dist=[]\n",
    "    for row in masterdata:\n",
    "        z = row['z']\n",
    "        radius_pix = row['FLUX_RADIUS_{}'.format(filter)]\n",
    "        rads_pix.append(radius_pix)\n",
    "        distance = cosmo.kpc_proper_per_arcmin(z) * (60*u.arcmin)\n",
    "        dist.append(float(distance.value))\n",
    "    distance_kpc[filter] += dist\n",
    "    rads[filter] += rads_pix\n",
    "\n"
   ]
  },
  {
   "cell_type": "code",
   "execution_count": 114,
   "metadata": {},
   "outputs": [
    {
     "name": "stdout",
     "output_type": "stream",
     "text": [
      "[[28558.5064937  28546.32565751 28586.93847693 28594.91144463\n",
      "  28602.86740792 28505.47178354 28501.79035997 28619.50040982\n",
      "  28635.96292463 28642.68080303 28458.3440559  28658.84915216\n",
      "  28428.73605385 28411.55634505 28700.89366914 28568.49683969\n",
      "  28568.59465321 28587.52244202 28587.71707679 28588.10631593\n",
      "  28602.77048628 28604.03027062 28501.69081306 28614.9627468\n",
      "  28615.63892139 28484.83031017 28642.3931457  28462.46931669\n",
      "  28446.04301521 28399.31222582 28560.56549502 28562.62337309\n",
      "  28566.54003519 28569.08368268 28538.93915925 28573.09132728\n",
      "  28529.7599124  28580.89882917 28582.06855377 28599.37663811\n",
      "  28490.22571008 28489.9261634  28631.63780221 28475.11962241\n",
      "  28634.71396652 28445.63904588 28431.57517322 28423.15323923\n",
      "  28406.45922847 28746.18168647 28749.90655639 28568.59465321\n",
      "  28536.76972421 28536.57244142 28578.75338544 28523.23216111\n",
      "  28598.11527777 28501.88990429 28608.19421118 28620.75452667\n",
      "  28621.9117957  28473.31495779 28462.26818583 28455.72577175\n",
      "  28670.38151686 28680.35940582 28400.53834164 28554.58147731\n",
      "  28553.99237301 28551.24200536 28548.19462166 28545.34162178\n",
      "  28533.11833485 28585.67290639 28523.13316984 28608.96838321\n",
      "  28609.25865611 28499.4005226  28499.20130244 28492.02250182\n",
      "  28617.76323837 28620.75452667 28477.32418314 28474.91914559\n",
      "  28473.916606   28643.73535381 28646.13093386 28663.0469613\n",
      "  28681.21337848]]\n"
     ]
    }
   ],
   "source": [
    "#print((distance_kpc['F105'][0][1]))\n",
    "print(distance_kpc[filter])"
   ]
  },
  {
   "cell_type": "code",
   "execution_count": 122,
   "metadata": {
    "collapsed": true
   },
   "outputs": [],
   "source": [
    "rads_kpc={}\n",
    "for filter in tfilters:\n",
    "    pixscale = 0.06 \n",
    "    factor = np.pi/(180 * 3600)\n",
    "    rads_kpc[filter] = np.zeros((1,89))\n",
    "    for val in range(89):\n",
    "        radius_kpc = rads[filter] * pixscale * distance_kpc[filter][0][val] * factor\n",
    "    rads_kpc[filter] +=radius_kpc"
   ]
  },
  {
   "cell_type": "code",
   "execution_count": 123,
   "metadata": {
    "collapsed": true
   },
   "outputs": [],
   "source": [
    "#print(rads_kpc) #wait why are these so small?"
   ]
  },
  {
   "cell_type": "code",
   "execution_count": 124,
   "metadata": {},
   "outputs": [
    {
     "data": {
      "image/png": "[encoded data removed]",
      "text/plain": [
       "<Figure size 720x720 with 1 Axes>"
      ]
     },
     "metadata": {
      "needs_background": "light"
     },
     "output_type": "display_data"
    }
   ],
   "source": [
    "#f,axes = plt.figure(figsize=(10,10))\n",
    "filters = [\"F160W\",\"F140W\",\"F125W\",\"F105W\",\"F850LP\",\"F814W\",\"F775W\",\"F625W\",\"F606W\",\"F435W\"]#in wl order\n",
    "\n",
    "# for idx, filter in enumerate(tfilters):\n",
    "    \n",
    "#     wl = np.repeat(idx,len(rads_kpc[filter][0]))\n",
    "#     print(filter,np.shape(wl),np.shape(rads_kpc[filter]),np.shape(rads_kpc[filter][0]))\n",
    "plt.figure(figsize=(10,10))\n",
    "plt.scatter(np.repeat(16000,len(rads_kpc[\"F160\"][0])),rads_kpc[\"F160\"][0])\n",
    "plt.scatter(np.repeat(14000,len(rads_kpc[\"F140\"][0])),rads_kpc[\"F140\"][0])\n",
    "plt.scatter(np.repeat(12500,len(rads_kpc[\"F125\"][0])),rads_kpc[\"F125\"][0])\n",
    "plt.scatter(np.repeat(10500,len(rads_kpc[\"F105\"][0])),rads_kpc[\"F105\"][0])\n",
    "plt.scatter(np.repeat(8500,len(rads_kpc[\"F850\"][0])),rads_kpc[\"F850\"][0])\n",
    "plt.scatter(np.repeat(8140,len(rads_kpc[\"F814\"][0])),rads_kpc[\"F814\"][0])\n",
    "plt.scatter(np.repeat(7750,len(rads_kpc[\"F775\"][0])),rads_kpc[\"F775\"][0])\n",
    "plt.scatter(np.repeat(6250,len(rads_kpc[\"F625\"][0])),rads_kpc[\"F625\"][0])\n",
    "plt.scatter(np.repeat(6060,len(rads_kpc[\"F606\"][0])),rads_kpc[\"F606\"][0])\n",
    "plt.scatter(np.repeat(4350,len(rads_kpc[\"F435\"][0])),rads_kpc[\"F435\"][0])\n",
    "plt.xlabel('Wavelength (Angstroms)')\n",
    "plt.ylabel('Radius (kpc)')\n",
    "#plt.ylim(0,0.015)\n",
    "plt.savefig('cluster_galaxies_size_by_wl')"
   ]
  },
  {
   "cell_type": "code",
   "execution_count": null,
   "metadata": {
    "collapsed": true
   },
   "outputs": [],
   "source": []
  },
  {
   "cell_type": "code",
   "execution_count": 12,
   "metadata": {},
   "outputs": [
    {
     "name": "stdout",
     "output_type": "stream",
     "text": [
      "0\n",
      "10\n",
      "11\n",
      "12\n",
      "13\n",
      "14\n",
      "1\n",
      "10\n",
      "11\n",
      "12\n",
      "13\n",
      "14\n",
      "2\n",
      "10\n",
      "11\n",
      "12\n",
      "13\n",
      "14\n",
      "3\n",
      "10\n",
      "11\n",
      "12\n",
      "13\n",
      "14\n",
      "4\n",
      "10\n",
      "11\n",
      "12\n",
      "13\n",
      "14\n"
     ]
    }
   ],
   "source": [
    "for i in range(5):\n",
    "    print(i)\n",
    "    for j in np.arange(10,15,1):\n",
    "        print(j)"
   ]
  },
  {
   "cell_type": "code",
   "execution_count": null,
   "metadata": {
    "collapsed": true
   },
   "outputs": [],
   "source": []
  }
 ],
 "metadata": {
  "kernelspec": {
   "display_name": "Python 3",
   "language": "python",
   "name": "python3"
  },
  "language_info": {
   "codemirror_mode": {
    "name": "ipython",
    "version": 3
   },
   "file_extension": ".py",
   "mimetype": "text/x-python",
   "name": "python",
   "nbconvert_exporter": "python",
   "pygments_lexer": "ipython3",
   "version": "3.6.1"
  }
 },
 "nbformat": 4,
 "nbformat_minor": 2
}
